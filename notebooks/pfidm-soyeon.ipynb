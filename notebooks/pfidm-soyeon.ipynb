{
 "cells": [
  {
   "cell_type": "code",
   "execution_count": 2,
   "metadata": {
    "scrolled": true
   },
   "outputs": [
    {
     "name": "stderr",
     "output_type": "stream",
     "text": [
      "WARNING: using PGFPlots.Plots in module Main conflicts with an existing identifier.\n"
     ]
    }
   ],
   "source": [
    "using NGSIM\n",
    "using AutomotiveDrivingModels\n",
    "using AutoViz\n",
    "# using Interact # Make video in notebook\n",
    "using Reel # Save video as gif\n",
    "using CSV # For writing to csv\n",
    "using DataFrames # For writing to csv\n",
    "using Distributions\n",
    "using Test\n",
    "using StatsBase\n",
    "using Dates\n",
    "using Plots\n",
    "using JLD\n",
    "using DelimitedFiles # To write to text file\n",
    "using LinearAlgebra # For norm\n",
    "using Random # For seed to enable repeatability\n",
    "using NPZ # For providing numpy readable data to RansML\n",
    "using FileIO # For sampling vehicles that live together in sample_multiple_trajdata\n",
    "using GaussianMixtures\n",
    "using PGFPlots\n",
    "using TikzPictures\n",
    "using ImageMagick\n"
   ]
  },
  {
   "cell_type": "code",
   "execution_count": 10,
   "metadata": {},
   "outputs": [
    {
     "data": {
      "text/plain": [
       "to_particleMatrix"
      ]
     },
     "execution_count": 10,
     "metadata": {},
     "output_type": "execute_result"
    }
   ],
   "source": [
    "include(\"admin_functions.jl\")"
   ]
  },
  {
   "cell_type": "code",
   "execution_count": null,
   "metadata": {},
   "outputs": [],
   "source": []
  },
  {
   "cell_type": "markdown",
   "metadata": {},
   "source": [
    "### Functions"
   ]
  },
  {
   "cell_type": "code",
   "execution_count": 250,
   "metadata": {},
   "outputs": [
    {
     "data": {
      "text/plain": [
       "keep_vehicle_subset! (generic function with 1 method)"
      ]
     },
     "execution_count": 250,
     "metadata": {},
     "output_type": "execute_result"
    }
   ],
   "source": [
    "function get_scene(framenum::Int64,traj)\n",
    "    \"\"\" Get a specific scene from traj_ngsim \"\"\"\n",
    "    \n",
    "    scene = Scene(500)\n",
    "    get!(scene,traj,framenum)\n",
    "    return scene\n",
    "end\n",
    "\n",
    "\n",
    "function get_veh_info(scene;\n",
    "        car_id = -1,traj=traj_interaction)\n",
    "    \"\"\" Get position and velocity of specific vehicle from scene \"\"\" \n",
    " \n",
    "    @assert car_id>0\n",
    "    pos=scene.entities[findfirst(car_id,scene)].state.posF.s\n",
    "    vel = scene.entities[findfirst(car_id,scene)].state.v\n",
    "    return pos,vel\n",
    "end\n",
    "\n",
    "\n",
    "function keep_vehicle_subset!(scene::Scene, ids::Vector{Int})\n",
    "    \"\"\" Remove those vehicles from video who we do not learn filter for.\n",
    "    Obtained from `ngsim_env/julia/src/ngsim_utils.jl`\n",
    "\n",
    "    # Example\n",
    "    ```julia\n",
    "    scene = Scene(500)\n",
    "    get!(scene,traj_ngsim,300)\n",
    "    keep_vehicle_subset!(scene,veh_id_list)\n",
    "    ```\n",
    "    \"\"\"\n",
    "    \n",
    "    keep_ids = Set(ids)\n",
    "    scene_ids = Set([veh.id for veh in scene])\n",
    "    remove_ids = setdiff(scene_ids, keep_ids)\n",
    "    for id in remove_ids\n",
    "        delete!(scene, id)\n",
    "    end\n",
    "    return scene\n",
    "end"
   ]
  },
  {
   "cell_type": "code",
   "execution_count": null,
   "metadata": {},
   "outputs": [],
   "source": []
  },
  {
   "cell_type": "code",
   "execution_count": 12,
   "metadata": {},
   "outputs": [
    {
     "data": {
      "text/plain": [
       "avg_dist_particles (generic function with 1 method)"
      ]
     },
     "execution_count": 12,
     "metadata": {},
     "output_type": "execute_result"
    }
   ],
   "source": [
    "\n",
    "function plot_particles(p_set_mat::Array{Float64,2},time::Float64)\n",
    "    \"\"\" Plot the distribution of particles\n",
    "    # Caution:\n",
    "        Only work for 2 parameters. Not developed for 3 parameter case yet\n",
    "\n",
    "    # Example:\n",
    "    ```julia\n",
    "    set_for_plotting = to_particleMatrix(p_set_new)\n",
    "    plots = []\n",
    "    push!(plots,plot_particles(set_for_plotting,framenum*0.04))\n",
    "    ```\n",
    "    \"\"\"\n",
    "    # Check that number of params does not exceed 3\n",
    "\n",
    "    @assert size(p_set_mat,1) <= 3\n",
    "    plt = Plots.plot()\n",
    "    # 2 parameter case\t\n",
    "    if size(p_set_mat,1) == 2\n",
    "        plt = scatter!(p_set_mat[1,:],p_set_mat[2,:],\n",
    "            leg=false,title=\"time=$(time)\",xlim=(0,20),ylim=(0,4),\n",
    "                xlabel=\"v_des(m/s)\",ylabel=\"sigma\")\n",
    "\n",
    "    # 3 parameter case\n",
    "    else\n",
    "        plt = scatter!(p_set_mat[1,:],p_set_mat[2,:],p_set_mat[3,:],leg=false)\n",
    "        scatter!([true_params[1]],[true_params[2]],[true_params[3]])\n",
    "    end\n",
    "    return plt\n",
    "end\n",
    "\n",
    "\n",
    "function avg_dist_particles(p_mat,p_fin)\n",
    "    \"\"\" Compute the avg distance over particle set from final particle\n",
    "\n",
    "    # Arguments\n",
    "    - `p_mat`: Matrix with particles in every column\n",
    "    - `p_fin`: 2x1 array with the final particle\n",
    "    \"\"\"\n",
    "\n",
    "    return sum(sqrt.(sum((p_mat .- p_fin).^2,dims=1)))*1/size(p_mat,2)\n",
    "end\n"
   ]
  },
  {
   "cell_type": "code",
   "execution_count": 342,
   "metadata": {},
   "outputs": [],
   "source": [
    "\"\"\" Overlaying hallucinated trajectory on the ground truth\n",
    "\n",
    "# Fields\n",
    "- `color::Colorant`\n",
    "- `scene::Scene`\n",
    "\"\"\"\n",
    "struct my_overlay <: SceneOverlay\n",
    "    scene::Scene\n",
    "    color # Needs to be of form colorant\"Colorname\"\n",
    "end\n",
    "\n",
    "function AutoViz.render!(rendermodel::RenderModel,overlay::my_overlay, \n",
    "        scene::Scene, roadway::Roadway)\n",
    "    AutoViz.render!(rendermodel, overlay.scene, car_color = overlay.color)\n",
    "    return rendermodel\n",
    "end\n",
    "\n",
    "\n",
    "\"\"\" Display the ID on top of each entity in a scene.\n",
    "\n",
    "# Fields\n",
    "- `color::Colorant`\n",
    "- `font_size::Int64`\n",
    "\"\"\"\n",
    "mutable struct IDOverlay <: SceneOverlay\n",
    "    color::Colorant\n",
    "    font_size::Int\n",
    "end\n",
    "\n",
    "function AutoViz.render!(rendermodel::RenderModel, overlay::IDOverlay, scene::Scene, \n",
    "                            env::E) where E\n",
    "    font_size = overlay.font_size\n",
    "    for veh in scene\n",
    "        add_instruction!(rendermodel, render_text, (\"$(veh.id)\", veh.state.posG.x, \n",
    "                        veh.state.posG.y, font_size, overlay.color), incameraframe=true)\n",
    "    end\n",
    "    return rendermodel\n",
    "end\n",
    "\n",
    "\n",
    "\"\"\"\n",
    "    curve_pts_overlay\n",
    "Displays circles at the curve points that constitute the lanes of a road: \n",
    "- color: the color of the point\n",
    "- size: the size of the point\n",
    "\n",
    "# Examples\n",
    "```julia\n",
    "render(scene,road,[curvepts_overlay(roadway_ext,colorant\"yellow\",0.05)])\n",
    "```\n",
    "\"\"\" \n",
    "struct curvepts_overlay <: SceneOverlay\n",
    "    roadway\n",
    "    color::Colorant # eg: colorant\"yellow\"\n",
    "    size::Float64\n",
    "end\n",
    "\n",
    "function AutoViz.render!(rendermodel::RenderModel, overlay::curvepts_overlay, \n",
    "        scene::Frame{Entity{S,D,I}}, roadway::R) where {S,D,I,R}\n",
    "    \n",
    "    num_segments = length(roadway.segments)\n",
    "    \n",
    "    # Loop over segments\n",
    "    for seg_i in 1:num_segments\n",
    "        seg = roadway.segments[seg_i]\n",
    "        num_lanes = length(seg.lanes)\n",
    "        \n",
    "        # Within a segment, loop over lanes\n",
    "        for lane_i in 1:num_lanes\n",
    "            lane = seg.lanes[lane_i]\n",
    "            \n",
    "            # Within a lane, loop over the curve points\n",
    "            num_curvepts = length(lane.curve)\n",
    "            for cpt_i in 1:num_curvepts\n",
    "                cpt = lane.curve[cpt_i]\n",
    "                \n",
    "                add_instruction!(rendermodel,render_circle,\n",
    "                    (cpt.pos.x,cpt.pos.y,overlay.size,overlay.color))\n",
    "            end\n",
    "        end\n",
    "    end\n",
    "    \n",
    "end\n"
   ]
  },
  {
   "cell_type": "code",
   "execution_count": 411,
   "metadata": {},
   "outputs": [
    {
     "data": {
      "text/plain": [
       "make_video"
      ]
     },
     "execution_count": 411,
     "metadata": {},
     "output_type": "execute_result"
    }
   ],
   "source": [
    "function make_gif(plots;filename=\"output.mp4\")\n",
    "    \"\"\" Make a video using an array of plots. Uses the Reel library \"\"\"\n",
    "    @assert typeof(filename) == String\n",
    "    #@show \"Making gif\"\n",
    "    frames = Frames(MIME(\"image/png\"), fps=10)\n",
    "    for plt in plots\n",
    "        push!(frames, plt)\n",
    "    end\n",
    "    write(string(\"media/\",filename), frames)\n",
    "    return nothing\n",
    "end # End of the reel gif writing function\n",
    "\n",
    "\n",
    "\n",
    "# Make demonstration traj video but highlighting vehicles in veh_id_list\n",
    "\"\"\"\n",
    "    function make_video\n",
    "\n",
    "- Make a video highlighting a selection of vehicles from replay demonstration trajectory\n",
    "- Overlay vehicle ids for vehicles in \n",
    "\n",
    "# Overlays\n",
    "- Id number of all vehicles\n",
    "- Timestep as a text overlay\n",
    "\n",
    "# Example\n",
    "```julia\n",
    "# random sample vehicle selection with seed 1 for 10 vehicles 50 driving steps\n",
    "id_list = [1101, 1209, 1126, 1200, 1171, 1119, 1131, 1127, 1154, 1202]\n",
    "make_video(range=3273:3323,veh_id_list=id_list)\n",
    "```\n",
    "\"\"\"\n",
    "function make_video(;range=nothing, veh_id_list=[],\n",
    "        traj=traj_ngsim, roadway=roadway_ngsim, plot_curvepts=false, C=nothing, zoom=6.,\n",
    "        filename=\"media/ngsim_vids/replay_$(range).mp4\")\n",
    "\n",
    "    frames = Frames(MIME(\"image/png\"), fps=10)\n",
    "    scene = Scene(500)\n",
    "    \n",
    "    if C == \"ngsim\"\n",
    "        C = VecE2(0.0,0.0)\n",
    "        n_veh = 0\n",
    "        for i in range\n",
    "            scene_i = get_scene(i,traj)\n",
    "            if !isempty(veh_id_list) keep_vehicle_subset!(scene_i,veh_id_list) end \n",
    "            for veh in scene_i\n",
    "                C += convert(VecE2, veh.state.posG)\n",
    "            end\n",
    "            n_veh += length(scene_i)\n",
    "        end\n",
    "        C = C / n_veh\n",
    "    end\n",
    "\n",
    "    if C == \"interaction\"\n",
    "        roadway_X = [cpt_k.pos.x for seg in roadway.segments for lane in seg.lanes for cpt_k in lane.curve]\n",
    "        roadway_Y = [cpt_k.pos.y for seg in roadway.segments for lane in seg.lanes for cpt_k in lane.curve]\n",
    "\n",
    "        C_X = (minimum(roadway_X) + maximum(roadway_X)) / 2\n",
    "        C_Y = (minimum(roadway_Y) + maximum(roadway_Y)) / 2\n",
    "        C = VecE2(C_X, C_Y)\n",
    "    end\n",
    "    print(\"center: $C\\n\")\n",
    "    \n",
    "    \n",
    "    for i in range\n",
    "        temp_scene = get_scene(i,traj)\n",
    "        \n",
    "        # Color vehicles in id_list green and show their vehicle ids\n",
    "        if !isempty(veh_id_list)\n",
    "            carcolors = Dict{Int,Colorant}()\n",
    "            for veh in temp_scene\n",
    "                if veh.id in veh_id_list\n",
    "                    carcolors[veh.id] = color_target\n",
    "                else\n",
    "                    carcolors[veh.id] = color_background\n",
    "                end\n",
    "            end\n",
    "        end\n",
    "        \n",
    "        if plot_curvepts == true\n",
    "            Overlays = [curvepts_overlay(roadway,colorant\"yellow\",0.02), \n",
    "                IDOverlay(colorant\"white\", 12), TextOverlay(text=[\"t=$(i)\"],font_size=14)]\n",
    "        else\n",
    "            Overlays = [IDOverlay(colorant\"white\", 12), TextOverlay(text=[\"t=$(i)\"],font_size=14)]\n",
    "        end\n",
    "        \n",
    "        scene_visual = render(temp_scene, roadway, \n",
    "                Overlays, car_colors = carcolors,\n",
    "                cam = StaticCamera(C, zoom))\n",
    "        push!(frames,scene_visual)\n",
    "    end\n",
    "    write(filename,frames)\n",
    "    print(\"Making video called $filename\")\n",
    "    \n",
    "    return nothing\n",
    "end"
   ]
  },
  {
   "cell_type": "code",
   "execution_count": 304,
   "metadata": {},
   "outputs": [
    {
     "name": "stdout",
     "output_type": "stream",
     "text": [
      "center: VecE2(1073.574, 966.638)\n",
      "Making video called media/interaction_vids/replay_interaction_700-800.mp4"
     ]
    }
   ],
   "source": [
    "veh_id_list = [134,135,136,141,144,142,147,137,139,152,151,153,155,156,157,162,164]\n",
    "make_video(range=700:800, veh_id_list=veh_id_list, \n",
    "    traj=traj_interaction, roadway=roadway_interaction_extension, plot_curvepts=true, C=C, zoom=6.,\n",
    "    filename=\"media/interaction_vids/replay_interaction_700-800.mp4\")"
   ]
  },
  {
   "cell_type": "code",
   "execution_count": null,
   "metadata": {},
   "outputs": [],
   "source": []
  },
  {
   "cell_type": "code",
   "execution_count": 100,
   "metadata": {},
   "outputs": [
    {
     "data": {
      "text/plain": [
       "addnoise (generic function with 1 method)"
      ]
     },
     "execution_count": 100,
     "metadata": {},
     "output_type": "execute_result"
    }
   ],
   "source": [
    "function sample_init_particles(num_p::Int64;v::Float64=30.0)\n",
    "\"\"\"\n",
    "    function sample_init_particles(num_p::Int64;v=30.0)\n",
    "\n",
    "Inspired from `gen_test_particles` in `admin.jl`.\n",
    "Samples `num_p` particles neighbourhood around the input `v`\n",
    "\n",
    "# Used by\n",
    "- `multistep_update`\n",
    "\n",
    "# Example\n",
    "```julia\n",
    "sample_init_particles(10,v=20.0)\n",
    "```\n",
    "\"\"\"\n",
    "    v_particles = sample(v-2.0:0.5:v+2.0,num_p)\n",
    "    sig_particles = sample(1.0:0.1:5.0,num_p)\n",
    "    p_set_dict = Dict(:v_des=>v_particles,:σ=>sig_particles)\n",
    "    return p_set_dict\n",
    "end\n",
    "\n",
    "\n",
    "\n",
    "\n",
    "function addnoise(p_set_mat,weight_vec)\n",
    "\"\"\"\n",
    "    function addnoisepar\n",
    "Add noise to elite particles to counter the particle deprivation problem\n",
    "- Used by `multistep_update`\n",
    "# Arguments\n",
    "- `p_set_mat`: Matrix with each column being a particle. Row1 has `v_des` and row2 has `sigma`\n",
    "- `weight_vec`: Associated weight for particles. To capture the elite 20% for noise addition \n",
    "\n",
    "# Returns\n",
    "- `new_set` Set of particles with noise added\n",
    "\n",
    "# Example\n",
    "See `multistep_update`\n",
    "```julia\n",
    "num_p = 10\n",
    "v = 30.\n",
    "v_particles = rand(v-5.0:0.5:v+5.0,1,num_p)\n",
    "sig_particles = rand(0.1:0.1:3.0,1,num_p)\n",
    "p_set = [v_particles;sig_particles]\n",
    "@show p_set\n",
    "scatter(p_set[1,:],p_set[2,:],xlim=(22,36),ylim=(0,4),leg=false,markercolor = \"red\")\n",
    "new_p = addnoise(p_set)\n",
    "@show new_p\n",
    "scatter!(new_p[1,:],new_p[2,:],xlim=(22,36),ylim=(0,4),leg=false,markercolor=\"green\")\n",
    "```\n",
    "\"\"\"\n",
    "    # Select the elite particles\n",
    "    num_p = size(p_set_mat,2)\n",
    "    num_top = Int(ceil(0.2*num_p))\n",
    "    \n",
    "    sorted_idx = sortperm(weight_vec,rev=true)[1:num_top] \n",
    "    \n",
    "    # Generate permuter for v_des and sigma\n",
    "    v_noise = rand([-0.5,0.,0.5],1,num_top)\n",
    "    sig_noise = rand([-0.1,0.,0.1],1,num_top)\n",
    "    stacked_noise = [v_noise;sig_noise]\n",
    "    \n",
    "    # Add noise only to the elite particles i.e top 20% particles\n",
    "    p_set_mat[:,sorted_idx] = p_set_mat[:,sorted_idx] + stacked_noise\n",
    "    new_set = p_set_mat\n",
    "    \n",
    "    # Impose bounds to avoid sigma becoming 0\n",
    "    new_set[2,findall(new_set[2,:] .< 0.1)] .= 0.1\n",
    "    return new_set\n",
    "end"
   ]
  },
  {
   "cell_type": "code",
   "execution_count": 16,
   "metadata": {},
   "outputs": [
    {
     "data": {
      "text/plain": [
       "update_p_one_step (generic function with 1 method)"
      ]
     },
     "execution_count": 16,
     "metadata": {},
     "output_type": "execute_result"
    }
   ],
   "source": [
    "\n",
    "function hallucinate_a_step(roadway,scene_input,particle,timestep;car_id=-1)\n",
    "    \"\"\"\n",
    "        function hallucinate_a_step(roadway,scene_input,particle;car_id=-1)\n",
    "    - Hallucinate `car_id` a step using `particle` starting from `scene` as the true scene\n",
    "    - Caution: Used `timestep_ngsim` as a global variable\n",
    "\n",
    "    # Example\n",
    "    ```julia\n",
    "    scene=get_scene(300,traj_ngsim)\n",
    "    particle = Dict(:v_des=>25.0,:σ=>0.5)\n",
    "    hallucinate_a_step(roadway,scene,particle,car_id=scene.entities[2].id)\n",
    "    ```\n",
    "    \"\"\"\n",
    "    \n",
    "    if car_id==-1 @show \"Please give valid car_id\" end\n",
    "\n",
    "    scene = deepcopy(scene_input)\n",
    "    #scene = scene_input # This was the failure case\n",
    "    n_cars = scene.n \n",
    "\n",
    "    models = Dict{Int, DriverModel}()\n",
    "    \n",
    "    # Create driver models for all the cars in the scene\n",
    "    for veh in scene\n",
    "        if veh.id == car_id\n",
    "            models[veh.id] = IntelligentDriverModel(;particle...,T=0.2,s_min=0.5)\n",
    "        else\n",
    "            # TODO: RESEARCH QUESTION: What drives the other vehicles in the hallucination\n",
    "            # Chose a high v_des such that the leader does not cause ego to choose a slow vel particle\n",
    "            models[veh.id] = IntelligentDriverModel(v_des=50.0)\n",
    "        end\n",
    "    end\n",
    "\n",
    "    actions = Array{Any}(undef,length(scene))\n",
    "    get_actions!(actions,scene,roadway,models)\n",
    "    tick!(scene,roadway,actions,timestep)\n",
    "    \n",
    "    halluc_pos = scene.entities[findfirst(car_id,scene)].state.posF.s\n",
    "    return halluc_pos\n",
    "end\n",
    "\n",
    "\n",
    "function compute_particle_likelihoods(roadway,f,trupos,p_set_dict,timestep; car_id=-1)\n",
    "    \"\"\"\n",
    "    - compute likelihood\n",
    "    \n",
    "    # Caution\n",
    "    - `timestep` defined in the function. Was 0.04 for highd. Here is 0.1\n",
    "    \"\"\"\n",
    "    \n",
    "    if car_id==-1 @show \"Please give valid car_id\" end\n",
    "    timestep = 0.1 #TODO: Remove hardcoding\n",
    "    p_mat, params, vec_val_vec = to_matrix_form(p_set_dict)\n",
    "    \n",
    "    num_params=size(p_mat)[1]\n",
    "    num_p = size(p_mat)[2]\n",
    "    lkhd_vec = Array{Float64}(undef,num_p)\n",
    "    for i in 1:num_p    \n",
    "        # Create dict version for a single particle\n",
    "        p_dict = Dict()\n",
    "        for j in 1:num_params\n",
    "            p_dict[params[j]]=vec_val_vec[j][i]\n",
    "        end\n",
    "        \n",
    "        std_dev_acc = p_dict[:σ]\n",
    "        \n",
    "        # hack to avoid the std_dev_pos become negative and error Normal distb\n",
    "        if std_dev_acc <= 0 std_dev_acc = 0.1 end\n",
    "        \n",
    "        # TODO: This math needs to be verified from random variable calculations\n",
    "        std_dev_pos = timestep*timestep*std_dev_acc\n",
    "\n",
    "        hpos = hallucinate_a_step(roadway,f,p_dict,timestep;car_id=car_id)\n",
    "        lkhd_vec[i] = pdf(Normal(hpos,std_dev_pos),trupos[1])\n",
    "    end\n",
    "    return lkhd_vec,p_mat,params\n",
    "end\n",
    "\n",
    "\n",
    "function update_p_one_step(f,trupos,p_set_dict,timestep;\n",
    "        car_id=-1,roadway=roadway_interaction)\n",
    "    \"\"\"\n",
    "        function update_p_one_step(roadway,f,trupos,p_set_dict;car_id=-1)\n",
    "    - Update particles a step, New particle set based on one step of resampling\n",
    "    - Erroneous weights calculation. Had negative weights at some point\n",
    "\n",
    "    # Returns\n",
    "    - `new_p_set_dict`: Dictionary with keys as parameters and values as array of particles\n",
    "    - `p_weight_vec`: Vector with weights associated to the particles in `new_p_set_dict`\n",
    "    \"\"\"\n",
    "    \n",
    "    if car_id==-1 @show \"Provide valid car_id\" end\n",
    "\n",
    "    lkhd_vec,p_mat,params = compute_particle_likelihoods(roadway,f,trupos,p_set_dict,timestep,\n",
    "                                                        car_id=car_id)\n",
    "\n",
    "    num_params = size(p_mat)[1]\n",
    "    num_p = size(p_mat)[2]\n",
    "    \n",
    "    p_weight_vec = StatsBase.weights(lkhd_vec./sum(lkhd_vec)) # Convert to weights form to use julia sampling\n",
    "    idx = sample(1:num_p,p_weight_vec,num_p)\n",
    "    new_p_mat = p_mat[:,idx] #Careful that idx is (size,1) and not (size,2)\n",
    "    \n",
    "    new_p_set_dict = to_dict_form(params,new_p_mat)\n",
    "    return new_p_set_dict, p_weight_vec\n",
    "end\n"
   ]
  },
  {
   "cell_type": "code",
   "execution_count": 449,
   "metadata": {},
   "outputs": [
    {
     "data": {
      "text/plain": [
       "obtain_driver_models"
      ]
     },
     "execution_count": 449,
     "metadata": {},
     "output_type": "execute_result"
    }
   ],
   "source": [
    "# Functions: multiple steps of filtering, obtain driver models for multiple cars\n",
    "\"\"\"\n",
    "    function multistep_update(num_p::Int64,car_id::Int64,\n",
    "        start_frame::Int64,last_frame::Int64;p_dist_vid=false)\n",
    "\n",
    "Returns the mean particle after running multiple steps of filtering\n",
    "\n",
    "# Arguments\n",
    "- `start_frame`: Frame to start filtering from\n",
    "- `last_frame`: Frame to end filtering at\n",
    "- `num_p`: Number of particles\n",
    "\n",
    "# Keyworded arguments\n",
    "- `p_dist_vid`: Default false. Makes a video of particle distribution if true\n",
    "\n",
    "# Returns\n",
    "- `mean_particle`: Dict containing the mean values of the final particle set after filtering\n",
    "- `iterwise_p_set`: List with particle set (in the matrix form) at each iteration\n",
    "\n",
    "# Example\n",
    "```julia\n",
    "# Make a video for particle evolution for vehicle 13 starting from\n",
    "# frame 11 and ending at frame number 60\n",
    "multistep_update(500,13,11,60,p_dist_vid=true)\n",
    "```\n",
    "\"\"\"\n",
    "function multistep_update(num_p::Int64, car_id::Int64,\n",
    "        start_frame::Int64, last_frame::Int64, timestep;\n",
    "        p_dist_vid=false, traj=traj_interaction, roadway=roadway_interaction_extension)\n",
    "\n",
    "    startscene = get_scene(start_frame,traj)\n",
    "    startpos,startvel = get_veh_info(startscene,car_id=car_id, traj=traj)\n",
    "\n",
    "    p_set_dict = sample_init_particles(num_p,v=startvel)\n",
    "    \n",
    "    plots = []\n",
    "    init_p_mat = to_particleMatrix(p_set_dict)\n",
    "    push!(plots,plot_particles(init_p_mat,0.0))\n",
    "    \n",
    "    dt = 0.1 # Multiplies framenum in creating the plot\n",
    "\n",
    "    iterwise_p_set = [] # Stores particle set at every iteration\n",
    "    push!(iterwise_p_set,init_p_mat)\n",
    "    \n",
    "    for framenum in start_frame:last_frame\n",
    "#         print(\"multistep says. Framenum = $(framenum) \\n\")\n",
    "        scene = get_scene(framenum+1,traj)\n",
    "        \n",
    "        if car_id in [veh.id for veh in scene]\n",
    "            trupos,truvel = get_veh_info(scene,car_id=car_id, traj=traj)\n",
    "\n",
    "            scene = get_scene(framenum,traj)\n",
    "            p_set_new, weight_vec = update_p_one_step(scene,trupos,p_set_dict,timestep; car_id=car_id, roadway=roadway)\n",
    "\n",
    "            params = [:v_des,:σ]\n",
    "            p_set_dict = to_dict_form(params,addnoise(to_particleMatrix(p_set_new),weight_vec))\n",
    "            set_for_plotting = to_particleMatrix(p_set_dict)\n",
    "            push!(plots,plot_particles(set_for_plotting,framenum*dt))\n",
    "            push!(iterwise_p_set,set_for_plotting)\n",
    "            \n",
    "        end\n",
    "    end\n",
    "    mean_particle = find_mean_particle(p_set_dict)\n",
    "\n",
    "#         # Make a plot of the particle distribution evolution\n",
    "#     if p_dist_vid \n",
    "#         print(\"Making a particle distribution video\\n\")\n",
    "#         make_gif(plots,filename = \"vehid_$(car_id).gif\") \n",
    "# #         date = Dates.now()\n",
    "# #         make_gif(plots,filename = \"vehid_$(car_id)_$(date).gif\") \n",
    "#     end\n",
    "    \n",
    "    return mean_particle,iterwise_p_set\n",
    "end\n",
    "\n",
    "\n",
    "\"\"\"\n",
    "    function obtain_driver_models(veh_id_list,num_particles,start_frame,last_frame)\n",
    "Driver models for each vehicle in veh_id_list\n",
    "\n",
    "# Arguments\n",
    "- `veh_id_list` List with vehicle ids\n",
    "- `start_frame` Frame to start filtering from\n",
    "- `last_frame` Frame to end hallucination at\n",
    "\n",
    "# Returns\n",
    "- `models` Dict with veh id as key and IDM driver model as value\n",
    "- `final_particles` Dict with veh id as key and avg particle over final particle set as value\n",
    "- `mean_dist_mat`: Every elem is the mean dist of particle set at that iter (row) for that car (column)\n",
    "\n",
    "# Example\n",
    "```julia\n",
    "veh_id_list = [72,75,73,67,69,71,64,59,56,57,62,60,54,55,49,51,48,43,47,39,37,34,44,33,31]\n",
    "model_multimodels,particles_multimodels,mean_dist_mat = obtain_driver_models(veh_id_list,500,300,375)\n",
    "\n",
    "# Example 2\n",
    "veh_id_list = [756,758,759,761,762,763,765,767,771,773,775,776,778,779,782,784,785]\n",
    "new_models, = obtain_driver_models(veh_id_list,500,2000,2090)\n",
    "```\n",
    "\"\"\"\n",
    "function obtain_driver_models(veh_id_list,num_particles,start_frame,last_frame; \n",
    "        timestep=timestep_interaction, traj=traj_interaction, roadway=roadway_interaction_extension)\n",
    "    \n",
    "    models = Dict{Int64,DriverModel}() # key is vehicle id, value is driver model\n",
    "    final_particles = Dict{Int64,Dict}() # key is vehicle id, value is final particles\n",
    "    \n",
    "        # Loop over all the cars and get their corresponding IDM parameters by particle filter\n",
    "    num_cars = length(veh_id_list)\n",
    "    num_iters = last_frame-start_frame+2 # NEED TO CONFIRM THIS\n",
    "    \n",
    "        # num_iters x num_cars. Every elem is the mean dist of particle set at that iter for that car\n",
    "    mean_dist_mat = fill(0.,num_iters,num_cars)\n",
    "    \n",
    "    for (ii,veh_id) in enumerate(veh_id_list)\n",
    "        print(\"obtain_driver_models. vehicle id = $(veh_id) \\n\")\n",
    "        \n",
    "        mean_particle, iterwise_p_set = multistep_update(num_particles,veh_id,start_frame,last_frame,timestep; \n",
    "            p_dist_vid=true, traj=traj, roadway=roadway)\n",
    "        print(\"mean_particle\", mean_particle, \"\\n\")\n",
    "        \n",
    "        final_particles[veh_id] = mean_particle\n",
    "        models[veh_id] = IntelligentDriverModel(;mean_particle...) #,T=0.2,s_min=1.)\n",
    "        \n",
    "            # Get the mean distance from final particle over iterations\n",
    "        p_fin = fill(0.,2,1)\n",
    "        i = 0\n",
    "        for (k,v) in mean_particle\n",
    "            i = i+1\n",
    "            p_fin[i] = v\n",
    "        end\n",
    "        \n",
    "        # num_iters = length(iterwise_p_set) # SHOULD MATCH OUTSIDE LOOP VARIABLE\n",
    "        mean_dist_over_iters = fill(0.,num_iters,1)\n",
    "        for (jj,p_mat) in enumerate(iterwise_p_set)\n",
    "            mean_dist_over_iters[jj,1] = avg_dist_particles(p_mat,p_fin)\n",
    "        end\n",
    "        \n",
    "        mean_dist_mat[:,ii] = mean_dist_over_iters    \n",
    "    end\n",
    "    \n",
    "        # Average over the cars and plot the filtering progress over frames\n",
    "    #avg_over_cars = mean(mean_dist_mat,dims=2)\n",
    "    #plot(avg_over_cars)\n",
    "    \n",
    "    return models, final_particles, mean_dist_mat\n",
    "end"
   ]
  },
  {
   "cell_type": "code",
   "execution_count": 408,
   "metadata": {},
   "outputs": [
    {
     "data": {
      "text/plain": [
       "run_simulation_extract_rmse"
      ]
     },
     "execution_count": 408,
     "metadata": {},
     "output_type": "execute_result"
    }
   ],
   "source": [
    "\n",
    "\"\"\"\n",
    "    function run_simulation_extract_rmse(;start_step,nsteps,roadway,timestep,id_list,models)\n",
    "- Drive vehicles in `id_list` starting from frame number `start_step` for `nsteps`\n",
    "- Driver models are provided in `models`\n",
    "- Extract rmse postion and velocity against ground truth\n",
    "\n",
    "# Arguments\n",
    "- `nsteps`: Number of steps to do the simulation\n",
    "- `models`: The driver models to drive the simulation\n",
    "- `roadway`: The roadway\n",
    "- `timestep`: Timestep (0.1 for ngsim, 0.04 for highd)\n",
    "- `id_list`: List of ids of vehicles of interest\n",
    "\n",
    "# Other functions used\n",
    "`get_scene`,`AutomotiveDrivingModels.get_actions!`,`AutomotiveDrivingModels.tick!`,`my_overlay`\n",
    "\n",
    "# Returns\n",
    "- `rmse_pos::Dict{Int64,Vector{Float64}}`:  Key is vehid. Value is array. Each elem is timewise rmse pos value for that veh_id\n",
    "- `rmse_vel::Dict{Int64,Vector{Float64}}`: Key is vehid. Value is array. Each elem is timewise rmse vel value for that veh_id\n",
    "- `out.mp4`: Video of hallucination overlayed with ground truth\n",
    "\n",
    "# Examples\n",
    "```julia\n",
    "rmse_pos_dict, = run_simulation_extraxct_rmse(start_step = 300,nsteps=100,\n",
    "    timestep=timestep_ngsim,roadway=roadway_ngsim,models=best_models,id_list=veh_id_list);\n",
    "```\n",
    "\"\"\"\n",
    "function run_simulation_extract_rmse(;start_step, nsteps, id_list, models,\n",
    "        timestep=timestep_ngsim, traj=traj_ngsim, roadway=roadway_ngsim,\n",
    "        filename = \"media/ngsim_vids/rmse_ngsim.mp4\", makevideo=true, \n",
    "        plot_curvepts=false, C=nothing, zoom=6.)    \n",
    "        \n",
    "        # Center point for visulization\n",
    "    if C == \"ngsim\"\n",
    "        C = VecE2(0.0,0.0)\n",
    "        n_veh = 0\n",
    "        for (i,t) in enumerate(start_step:start_step+nsteps-1)\n",
    "            scene_t = get_scene(t,traj)\n",
    "            if !isempty(veh_id_list) keep_vehicle_subset!(scene_t,veh_id_list) end \n",
    "            for veh in scene_t\n",
    "                C += convert(VecE2, veh.state.posG)\n",
    "            end\n",
    "            n_veh += length(scene_t)\n",
    "        end\n",
    "        C = C / n_veh\n",
    "    end\n",
    "\n",
    "    if C == \"interaction\"\n",
    "        roadway_X = [cpt_k.pos.x for seg in roadway.segments for lane in seg.lanes for cpt_k in lane.curve]\n",
    "        roadway_Y = [cpt_k.pos.y for seg in roadway.segments for lane in seg.lanes for cpt_k in lane.curve]\n",
    "\n",
    "        C_X = (minimum(roadway_X) + maximum(roadway_X)) / 2\n",
    "        C_Y = (minimum(roadway_Y) + maximum(roadway_Y)) / 2\n",
    "        C = VecE2(C_X, C_Y)\n",
    "    end\n",
    "    print(\"center: $C\\n\")\n",
    "    \n",
    "    \n",
    "        # Setting up\n",
    "    rmse_pos = Dict{Int64,Vector{Float64}}()\n",
    "    rmse_vel = Dict{Int64,Vector{Float64}}()\n",
    "    \n",
    "    for veh_id in id_list\n",
    "        rmse_pos[veh_id] = []\n",
    "        rmse_vel[veh_id] = []\n",
    "    end\n",
    "    \n",
    "    frames = Frames(MIME(\"image/png\"), fps=7) # For making video\n",
    "    scene_halluc = get_scene(start_step,traj) # Frame to start hallucination from\n",
    "    \n",
    "    for (i,t) in enumerate(start_step:start_step+nsteps-1)\n",
    "#         print(\"run_simulation_extract_rmse, step $t \\n\")\n",
    "        if !isempty(id_list) keep_vehicle_subset!(scene_halluc,id_list) end\n",
    "\n",
    "        actions = Array{Any}(undef,length(scene_halluc))\n",
    "        get_actions!(actions,scene_halluc,roadway,models)\n",
    "        tick!(scene_halluc,roadway,actions,timestep)\n",
    "\n",
    "        scene_target = get_scene(t+1,traj)\n",
    "#         if !isempty(id_list) keep_vehicle_subset!(scene_target,id_list) end\n",
    "        \n",
    "            # rmse extraction\n",
    "        for veh_id in id_list\n",
    "            if veh_id in [veh.id for veh in scene_target]\n",
    "                target_veh = scene_target[findfirst(veh_id,scene_target)]\n",
    "                ego_veh = scene_halluc[findfirst(veh_id,scene_halluc)]\n",
    "\n",
    "                push!(rmse_pos[veh_id], norm(target_veh.state.posG[1:2]-ego_veh.state.posG[1:2]))\n",
    "                push!(rmse_vel[veh_id], norm(target_veh.state.v - ego_veh.state.v))\n",
    "            end\n",
    "        end\n",
    "        \n",
    "        \n",
    "        if !isempty(id_list)\n",
    "            carcolors = Dict{Int,Colorant}()\n",
    "            for veh in scene_target\n",
    "                if veh.id in veh_id_list\n",
    "                    carcolors[veh.id] = color_target\n",
    "                else\n",
    "                    carcolors[veh.id] = color_background\n",
    "                end\n",
    "            end     \n",
    "#             veh_list = [scene_halluc[findfirst(veh_id,scene_halluc)] for veh_id in id_list]\n",
    "#             HallucOverlay = [TextOverlay(text=[\"$(veh.id)\"], incameraframe=true, \n",
    "#                     pos=VecE2(veh.state.posG.x-0.7, veh.state.posG.y-0.1)) for veh in veh_list]\n",
    "        end   \n",
    "        \n",
    "        HallucOverlay = my_overlay(scene_halluc, color_halluc)\n",
    "        if plot_curvepts == true\n",
    "            Overlays = [curvepts_overlay(roadway,colorant\"yellow\",0.02), HallucOverlay, \n",
    "                IDOverlay(colorant\"white\", 12), TextOverlay(text=[\"t=$(t)\"],font_size=14)]\n",
    "        else\n",
    "            Overlays = [HallucOverlay,\n",
    "                IDOverlay(colorant\"white\", 12), TextOverlay(text=[\"t=$(t)\"],font_size=14)]\n",
    "        end\n",
    "           \n",
    "        scene_visual = render(scene_target, roadway, \n",
    "                Overlays, car_colors = carcolors, cam=StaticCamera(C, zoom))\n",
    "        push!(frames,scene_visual)\n",
    "    end\n",
    "    \n",
    "    if makevideo\n",
    "        print(\"Making video filename: $(filename)\\n\")\n",
    "        write(filename,frames)\n",
    "    end\n",
    "\n",
    "    return rmse_pos,rmse_vel\n",
    "end\n"
   ]
  },
  {
   "cell_type": "code",
   "execution_count": null,
   "metadata": {},
   "outputs": [],
   "source": []
  },
  {
   "cell_type": "markdown",
   "metadata": {},
   "source": [
    "## Interaction dataset"
   ]
  },
  {
   "cell_type": "code",
   "execution_count": 4,
   "metadata": {},
   "outputs": [],
   "source": [
    "include(\"../src/veh_track_reading.jl\");\n",
    "include(\"../src/roadway_building.jl\");\n",
    "\n",
    "timestep_interaction=0.1;"
   ]
  },
  {
   "cell_type": "code",
   "execution_count": 388,
   "metadata": {
    "scrolled": true
   },
   "outputs": [],
   "source": [
    "roadway_interaction = make_roadway_interaction()\n",
    "roadway_interaction_extension = make_roadway_interaction_with_extensions();"
   ]
  },
  {
   "cell_type": "code",
   "execution_count": 8,
   "metadata": {},
   "outputs": [],
   "source": [
    "traj_interaction = read_veh_tracks(roadway=roadway_interaction);"
   ]
  },
  {
   "cell_type": "code",
   "execution_count": null,
   "metadata": {},
   "outputs": [],
   "source": []
  },
  {
   "cell_type": "code",
   "execution_count": 426,
   "metadata": {},
   "outputs": [
    {
     "name": "stdout",
     "output_type": "stream",
     "text": [
      "center: VecE2(1070.962, 955.718)\n"
     ]
    }
   ],
   "source": [
    "roadway_X = [cpt_k.pos.x for seg in roadway_interaction.segments for lane in seg.lanes for cpt_k in lane.curve]\n",
    "roadway_Y = [cpt_k.pos.y for seg in roadway_interaction.segments for lane in seg.lanes for cpt_k in lane.curve]\n",
    "\n",
    "C_X = (minimum(roadway_X) + maximum(roadway_X)) / 2\n",
    "C_Y = (minimum(roadway_Y) + maximum(roadway_Y)) / 2\n",
    "C = VecE2(C_X, C_Y)\n",
    "print(\"center: $C\\n\")\n",
    "    "
   ]
  },
  {
   "cell_type": "code",
   "execution_count": 367,
   "metadata": {},
   "outputs": [],
   "source": [
    "color_target = colorant\"#004d99\"  #pastel-blue\n",
    "# color_target = colorant\"#0090bc\"\n",
    "color_background = colorant\"#b3d9ff\"  #pastel-skyblue\n",
    "color_halluc = colorant\"#ffa64d\";\n"
   ]
  },
  {
   "cell_type": "code",
   "execution_count": null,
   "metadata": {},
   "outputs": [],
   "source": []
  },
  {
   "cell_type": "code",
   "execution_count": 326,
   "metadata": {},
   "outputs": [
    {
     "name": "stdout",
     "output_type": "stream",
     "text": [
      "Making video called media/interaction_vids/replay_interaction_700-800.mp4"
     ]
    }
   ],
   "source": [
    "veh_id_list = [134,135,136,141,144,142,147,137,139,152,151,153,155,156] #,157,162,164]\n",
    "\n",
    "make_video(range=700:750, veh_id_list=veh_id_list, \n",
    "    traj=traj_interaction, roadway=roadway_interaction_extension, \n",
    "    plot_curvepts=false, C=C, zoom=6.5,\n",
    "    filename=\"media/interaction_vids/replay_interaction_700-750.mp4\")"
   ]
  },
  {
   "cell_type": "code",
   "execution_count": 448,
   "metadata": {
    "scrolled": false
   },
   "outputs": [
    {
     "name": "stdout",
     "output_type": "stream",
     "text": [
      "obtain_driver_models. vehicle id = 134 \n",
      "mean_particleDict{Any,Any}(:v_des=>8.95612,:σ=>5.6684)\n",
      "obtain_driver_models. vehicle id = 135 \n",
      "mean_particleDict{Any,Any}(:v_des=>5.09728,:σ=>4.9846)\n",
      "obtain_driver_models. vehicle id = 136 \n",
      "mean_particleDict{Any,Any}(:v_des=>5.3862,:σ=>5.2052)\n",
      "obtain_driver_models. vehicle id = 141 \n",
      "mean_particleDict{Any,Any}(:v_des=>5.30047,:σ=>4.0332)\n",
      "obtain_driver_models. vehicle id = 144 \n",
      "mean_particleDict{Any,Any}(:v_des=>8.28182,:σ=>5.5574)\n",
      "obtain_driver_models. vehicle id = 142 \n",
      "mean_particleDict{Any,Any}(:v_des=>6.64013,:σ=>2.5816)\n",
      "obtain_driver_models. vehicle id = 147 \n",
      "mean_particleDict{Any,Any}(:v_des=>4.54313,:σ=>2.2626)\n",
      "obtain_driver_models. vehicle id = 137 \n",
      "mean_particleDict{Any,Any}(:v_des=>6.39868,:σ=>5.3836)\n",
      "obtain_driver_models. vehicle id = 139 \n",
      "mean_particleDict{Any,Any}(:v_des=>4.98759,:σ=>4.887)\n",
      "obtain_driver_models. vehicle id = 152 \n",
      "mean_particleDict{Any,Any}(:v_des=>7.14511,:σ=>3.2788)\n",
      "obtain_driver_models. vehicle id = 151 \n",
      "mean_particleDict{Any,Any}(:v_des=>7.95616,:σ=>4.0128)\n",
      "obtain_driver_models. vehicle id = 153 \n",
      "mean_particleDict{Any,Any}(:v_des=>13.7851,:σ=>3.8982)\n",
      "obtain_driver_models. vehicle id = 155 \n",
      "mean_particleDict{Any,Any}(:v_des=>7.51466,:σ=>2.4336)\n",
      "obtain_driver_models. vehicle id = 156 \n",
      "mean_particleDict{Any,Any}(:v_des=>8.96565,:σ=>3.5676)\n",
      "obtain_driver_models. vehicle id = 157 \n",
      "mean_particleDict{Any,Any}(:v_des=>6.97867,:σ=>5.3966)\n",
      "center: VecE2(1070.962, 955.718)\n",
      "Making video filename: media/interaction_vids/rmse_interaction_pfIDM_MOBIL_700-780.mp4\n",
      "Rmse extracted: pfIDM models\n"
     ]
    }
   ],
   "source": [
    "veh_id_list = [134,135,136,141,144,142,147,137,139,152,151,153,155,156,157] #,162,164]\n",
    "# veh_id_list = [137,139,144,142,147,152,151,153,155,156,157]\n",
    "\n",
    "model_multimodels,particles_multimodels,mean_dist_mat = obtain_driver_models(veh_id_list, \n",
    "    500,700,780; traj=traj_interaction, roadway=roadway_interaction_extension)\n",
    "\n",
    "init_pos_dict, init_vel_dict= run_simulation_extract_rmse(start_step=700,nsteps=80, id_list=veh_id_list,\n",
    "    timestep=timestep_interaction, traj=traj_interaction, roadway=roadway_interaction_extension,\n",
    "    models=model_multimodels, plot_curvepts=false, C=C, zoom=6.5,\n",
    "    filename = \"media/interaction_vids/rmse_interaction_pfIDM_MOBIL_700-780.mp4\")\n",
    "print(\"Rmse extracted: pfIDM models\\n\")\n"
   ]
  },
  {
   "cell_type": "code",
   "execution_count": null,
   "metadata": {},
   "outputs": [],
   "source": []
  },
  {
   "cell_type": "markdown",
   "metadata": {},
   "source": [
    "### NGSIM dataset"
   ]
  },
  {
   "cell_type": "code",
   "execution_count": 382,
   "metadata": {},
   "outputs": [],
   "source": [
    "# Loading: ngsim roads and trajectories\n",
    "traj_ngsim = open(io->read(io, MIME\"text/plain\"(), Trajdata), \n",
    "    \"../dataset/trajdata_i101_trajectories-0750am-0805am.txt\", \"r\");\n",
    "roadway_ngsim = open(io->read(io, MIME\"text/plain\"(), Roadway), \n",
    "    \"../dataset/ngsim_101.txt\", \"r\");\n",
    "\n",
    "timestep_ngsim=0.1;"
   ]
  },
  {
   "cell_type": "code",
   "execution_count": 4,
   "metadata": {},
   "outputs": [],
   "source": [
    "# Scenario definitions: suffix shows start frame number for a 100 step duration\n",
    "    # Hold up on left lane\n",
    "id_list_1000 = [298,302,322,363,376,396,397,404,417,422,427,442,451]\n",
    "    # No hold ups\n",
    "id_list_2000 = [756,758,759,761,762,763,765,767,771,773,775,776,778,779,782,784,785]\n",
    "id_list_300_375 = [72,75,73,67,69,71,64,59,56,57,62,60,54,55,49,51,48,43,47,39,37,34,44,33]; #,31\n",
    "id_list_3273_3323 = [1101, 1209, 1126, 1200, 1171, 1119, 1131, 1127, 1154, 1202]\n"
   ]
  },
  {
   "cell_type": "code",
   "execution_count": 392,
   "metadata": {},
   "outputs": [
    {
     "name": "stdout",
     "output_type": "stream",
     "text": [
      "center: VecE2(1966559.896, 570767.311)\n"
     ]
    }
   ],
   "source": [
    "roadway_X = [cpt_k.pos.x for seg in roadway_ngsim.segments for lane in seg.lanes for cpt_k in lane.curve]\n",
    "roadway_Y = [cpt_k.pos.y for seg in roadway_ngsim.segments for lane in seg.lanes for cpt_k in lane.curve]\n",
    "\n",
    "C_X = (minimum(roadway_X) + maximum(roadway_X)) / 2\n",
    "C_Y = (minimum(roadway_Y) + maximum(roadway_Y)) / 2\n",
    "C = VecE2(C_X, C_Y)\n",
    "print(\"center: $C\\n\")\n",
    "\n",
    "\n",
    "color_target = colorant\"#004d99\"  #pastel-blue\n",
    "# color_target = colorant\"#0090bc\"\n",
    "color_background = colorant\"#b3d9ff\"  #pastel-skyblue\n",
    "color_halluc = colorant\"#ffa64d\";"
   ]
  },
  {
   "cell_type": "markdown",
   "metadata": {},
   "source": [
    "#### id_list_300_375"
   ]
  },
  {
   "cell_type": "code",
   "execution_count": 430,
   "metadata": {},
   "outputs": [
    {
     "name": "stdout",
     "output_type": "stream",
     "text": [
      "center: VecE2(1966508.263, 570801.001)\n",
      "Making video called media/ngsim_vids/replay_ngsim_300-375.mp4"
     ]
    }
   ],
   "source": [
    "veh_id_list = [72,75,73,67,69,71,64,59,56,57,62,60,54,55,49,51,48,43,47,39,37,34,44,42,33,31] \n",
    "make_video(range=300:400, veh_id_list=veh_id_list, \n",
    "    traj=traj_ngsim, roadway=roadway_ngsim, C=\"ngsim\", zoom=4.,\n",
    "    filename=\"media/ngsim_vids/replay_ngsim_300-375.mp4\")\n"
   ]
  },
  {
   "cell_type": "code",
   "execution_count": 415,
   "metadata": {
    "scrolled": true
   },
   "outputs": [
    {
     "name": "stdout",
     "output_type": "stream",
     "text": [
      "obtain_driver_models. vehicle id = 42 \n",
      "obtain_driver_models. vehicle id = 33 \n",
      "obtain_driver_models. vehicle id = 72 \n",
      "obtain_driver_models. vehicle id = 75 \n",
      "obtain_driver_models. vehicle id = 73 \n",
      "obtain_driver_models. vehicle id = 67 \n",
      "obtain_driver_models. vehicle id = 69 \n",
      "obtain_driver_models. vehicle id = 71 \n",
      "obtain_driver_models. vehicle id = 64 \n"
     ]
    },
    {
     "ename": "BoundsError",
     "evalue": "BoundsError: attempt to access 300-element UnitRange{Int64} at index [4625404556023066748]",
     "output_type": "error",
     "traceback": [
      "BoundsError: attempt to access 300-element UnitRange{Int64} at index [4625404556023066748]",
      "",
      "Stacktrace:",
      " [1] throw_boundserror(::UnitRange{Int64}, ::Int64) at ./abstractarray.jl:484",
      " [2] getindex at ./range.jl:597 [inlined]",
      " [3] alias_sample!(::MersenneTwister, ::UnitRange{Int64}, ::Weights{Float64,Float64,Array{Float64,1}}, ::Array{Int64,1}) at /Users/soyeonjung/.julia/packages/StatsBase/548SN/src/sampling.jl:538",
      " [4] #sample!#154(::Bool, ::Bool, ::Function, ::MersenneTwister, ::UnitRange{Int64}, ::Weights{Float64,Float64,Array{Float64,1}}, ::Array{Int64,1}) at /Users/soyeonjung/.julia/packages/StatsBase/548SN/src/sampling.jl:767",
      " [5] #sample! at ./none:0 [inlined]",
      " [6] #sample#155 at /Users/soyeonjung/.julia/packages/StatsBase/548SN/src/sampling.jl:785 [inlined]",
      " [7] #sample at ./none:0 [inlined]",
      " [8] #sample#156 at /Users/soyeonjung/.julia/packages/StatsBase/548SN/src/sampling.jl:788 [inlined]",
      " [9] sample(::UnitRange{Int64}, ::Weights{Float64,Float64,Array{Float64,1}}, ::Int64) at /Users/soyeonjung/.julia/packages/StatsBase/548SN/src/sampling.jl:788",
      " [10] #update_p_one_step#15(::Int64, ::Roadway{Float64}, ::Function, ::Frame{Entity{VehicleState,VehicleDef,Int64}}, ::Float64, ::Dict{Any,Any}, ::Float64) at ./In[16]:104",
      " [11] #update_p_one_step at ./none:0 [inlined]",
      " [12] #multistep_update#787(::Bool, ::ListRecord{VehicleState,VehicleDef,Int64}, ::Roadway{Float64}, ::Function, ::Int64, ::Int64, ::Int64, ::Int64, ::Float64) at ./In[380]:54",
      " [13] #multistep_update at ./none:0 [inlined]",
      " [14] #obtain_driver_models#791(::Float64, ::ListRecord{VehicleState,VehicleDef,Int64}, ::Roadway{Float64}, ::Function, ::Array{Int64,1}, ::Int64, ::Int64, ::Int64) at ./In[380]:158",
      " [15] (::getfield(Main, Symbol(\"#kw##obtain_driver_models\")))(::NamedTuple{(:timestep, :traj, :roadway),Tuple{Float64,ListRecord{VehicleState,VehicleDef,Int64},Roadway{Float64}}}, ::typeof(obtain_driver_models), ::Array{Int64,1}, ::Int64, ::Int64, ::Int64) at ./none:0",
      " [16] top-level scope at In[415]:2"
     ]
    }
   ],
   "source": [
    "veh_id_list = [42,33,72,75,73,67,69,71,64,59,56,57,62,60,54,55,49,51,48,43,47,39,37,34]\n",
    "model_multimodels,particles_multimodels,mean_dist_mat = obtain_driver_models(veh_id_list, 500,300,400; \n",
    "    timestep=timestep_ngsim, traj=traj_ngsim, roadway=roadway_ngsim)\n",
    "\n",
    "init_pos_dict, init_vel_dict= run_simulation_extract_rmse(start_step=300,nsteps=100,id_list=veh_id_list,\n",
    "    timestep=timestep_ngsim, traj=traj_ngsim, roadway=roadway_ngsim,\n",
    "    models=model_multimodels, C=C, zoom=4.,\n",
    "    filename = \"media/ngsim_vids/rmse_ngsim_pfIDM_300-375.mp4\")\n",
    "print(\"Rmse extracted: pfIDM models\\n\")\n"
   ]
  },
  {
   "cell_type": "code",
   "execution_count": null,
   "metadata": {},
   "outputs": [],
   "source": []
  },
  {
   "cell_type": "markdown",
   "metadata": {},
   "source": [
    "#### id_list_3273_3323"
   ]
  },
  {
   "cell_type": "code",
   "execution_count": 413,
   "metadata": {},
   "outputs": [
    {
     "name": "stdout",
     "output_type": "stream",
     "text": [
      "center: VecE2(1966537.742, 570776.719)\n",
      "Making video called media/ngsim_vids/replay_ngsim_3273-3323.mp4"
     ]
    }
   ],
   "source": [
    "id_list = [1101, 1209, 1126, 1200, 1171, 1119, 1131, 1127, 1154, 1202]\n",
    "make_video(range=3273:3323, veh_id_list=id_list, traj=traj_ngsim, roadway=roadway_ngsim, C=\"ngsim\", zoom=2.,\n",
    "    filename=\"media/ngsim_vids/replay_ngsim_3273-3323.mp4\")"
   ]
  },
  {
   "cell_type": "markdown",
   "metadata": {},
   "source": [
    "#### id_list_2000_2090"
   ]
  },
  {
   "cell_type": "code",
   "execution_count": 402,
   "metadata": {},
   "outputs": [
    {
     "name": "stdout",
     "output_type": "stream",
     "text": [
      "Making video called media/ngsim_vids/replay_ngsim_2000-2090.mp4"
     ]
    }
   ],
   "source": [
    "id_list = [756,758,759,761,762,763,765,767,771,773,775,776,778,779,782,784,785]\n",
    "make_video(range=2000:2090, veh_id_list=id_list, traj=traj_ngsim, roadway=roadway_ngsim, C=\"ngsim\", zoom=4.,\n",
    "    filename=\"media/ngsim_vids/replay_ngsim_2000-2090.mp4\")\n"
   ]
  },
  {
   "cell_type": "code",
   "execution_count": null,
   "metadata": {},
   "outputs": [],
   "source": []
  },
  {
   "cell_type": "code",
   "execution_count": null,
   "metadata": {},
   "outputs": [],
   "source": []
  },
  {
   "cell_type": "code",
   "execution_count": null,
   "metadata": {},
   "outputs": [],
   "source": []
  }
 ],
 "metadata": {
  "@webio": {
   "lastCommId": null,
   "lastKernelId": null
  },
  "kernelspec": {
   "display_name": "Julia 1.0.5",
   "language": "julia",
   "name": "julia-1.0"
  },
  "language_info": {
   "file_extension": ".jl",
   "mimetype": "application/julia",
   "name": "julia",
   "version": "1.0.5"
  }
 },
 "nbformat": 4,
 "nbformat_minor": 4
}
