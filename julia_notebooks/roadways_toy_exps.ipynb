{
 "cells": [
  {
   "cell_type": "markdown",
   "metadata": {},
   "source": [
    "- This notebook builds some toy roadways\n",
    "- Can be useful to understand how roadways are built in `AutomotiveDrivingModels` and rendered using `AutoViz`"
   ]
  },
  {
   "cell_type": "code",
   "execution_count": null,
   "metadata": {},
   "outputs": [],
   "source": [
    "using AutomotiveDrivingModels\n",
    "using AutoViz\n",
    "using Parameters\n",
    "using Reel"
   ]
  },
  {
   "cell_type": "code",
   "execution_count": null,
   "metadata": {},
   "outputs": [],
   "source": [
    "include(\"../src/visualization.jl\")"
   ]
  },
  {
   "cell_type": "markdown",
   "metadata": {},
   "source": [
    "## Maxime roadway: Adapted from `AutonomousMerging.jl`"
   ]
  },
  {
   "cell_type": "code",
   "execution_count": null,
   "metadata": {
    "code_folding": [
     0
    ]
   },
   "outputs": [],
   "source": [
    "# struct and functions: generation of merging roadway\n",
    "const MAIN_LANE_ID = 1\n",
    "const MERGE_LANE_ID = 2\n",
    "\n",
    "\"\"\"\n",
    "    MergingEnvironment\n",
    "A road network with a main lane and a merging lane. The geometry can be modified by \n",
    "passing the parameters as keyword arguments in the constructor\n",
    "# Parameters\n",
    "- `lane_width::Float64 = 3.0`\n",
    "- `main_lane_vmax::Float64 = 15.0`\n",
    "- `merge_lane_vmax::Float64 = 10.0`\n",
    "- `main_lane_length::Float64 = 100.0`\n",
    "- `main_lane_angle::Float64 = float(pi)/4`\n",
    "- `merge_lane_angle::Float64 = float(pi)/4`\n",
    "- `merge_lane_length::Float64 = 50.0`\n",
    "- `after_merge_length::Float64 = 50.0`\n",
    "# Internals \n",
    "- `roadway::Roadway{Float64}` contains all the road segment and lane information\n",
    "- `merge_point::VecSE2{Float64}` coordinate of the merge point in cartesian frame (0.0, 0.0, 0.0) by default\n",
    "- `merge_proj::RoadProjection{Int64, Float64}` projection of the merge point on the roadway \n",
    "- `merge_index::RoadIndex`\n",
    "\"\"\"\n",
    "@with_kw struct MergingEnvironment\n",
    "    lane_width::Float64 = 3.0\n",
    "    main_lane_vmax::Float64 = 15.0\n",
    "    merge_lane_vmax::Float64 = 10.0\n",
    "    main_lane_length::Float64 = 100.0\n",
    "    main_lane_angle::Float64 = float(pi)/4\n",
    "    merge_lane_angle::Float64 = float(pi)/4\n",
    "    merge_lane_length::Float64 = 50.0\n",
    "    after_merge_length::Float64 = 50.0\n",
    "\n",
    "    # internals\n",
    "    roadway::Roadway{Float64} = generate_merging_roadway(lane_width, \n",
    "                                                main_lane_vmax, \n",
    "                                                merge_lane_vmax, \n",
    "                                                main_lane_length,\n",
    "                                                merge_lane_length,\n",
    "                                                after_merge_length, \n",
    "                                                main_lane_angle, \n",
    "                                                merge_lane_angle) \n",
    "    merge_point::VecSE2{Float64} = VecSE2(0.0, 0.0, 0.0)\n",
    "    merge_proj::RoadProjection{Int64, Float64} = proj(merge_point, roadway)\n",
    "    merge_index::RoadIndex{Int64, Float64} = RoadIndex(merge_proj.curveproj.ind, merge_proj.tag)\n",
    "end\n",
    "\n",
    "\n",
    "function append_to_curve!(target::Curve{T}, newstuff::Curve{T}) where T <: Real\n",
    "    s_end = target[end].s\n",
    "    for c in newstuff\n",
    "        push!(target, CurvePt{T}(c.pos, c.s+s_end, c.k, c.kd))\n",
    "    end\n",
    "    return target\n",
    "end\n",
    "\n",
    "\"\"\"\n",
    "    generate_merging_roadway(lane_width::Float64 = 3.0, main_lane_vmax::Float64 = 20.0, \n",
    "merge_lane_vmax::Float64 = 15.0, main_lane_length::Float64 = 20.0, \n",
    "merge_lane_length::Float64 = 20.0, after_merge_length::Float64 = 20.0, \n",
    "main_lane_angle::Float64 = float(pi)/4, merge_lane_angle::Float64 = float(pi)/4)\n",
    "Generate a `Roadway` object representing a merging scenario. \n",
    "The merge point is defined at (0., 0.) by default.\n",
    "\"\"\"\n",
    "function generate_merging_roadway(lane_width::Float64 = 3.0, \n",
    "                                   main_lane_vmax::Float64 = 20.0,\n",
    "                                   merge_lane_vmax::Float64 = 15.0,\n",
    "                                   main_lane_length::Float64 = 20.0, \n",
    "                                   merge_lane_length::Float64 = 20.0,\n",
    "                                   after_merge_length::Float64 = 20.0,\n",
    "                                   main_lane_angle::Float64 = float(pi)/4, \n",
    "                                   merge_lane_angle::Float64 = float(pi)/4) \n",
    "    # init empty roadway \n",
    "    roadway = Roadway()\n",
    "    n_pts = 2 # sample points for the roadway, only two needed each time, since all segments are straight\n",
    "    main_tag = LaneTag(MAIN_LANE_ID, 1)\n",
    "    merge_tag = LaneTag(MERGE_LANE_ID, 1)\n",
    "    # after_merge_tag = LaneTag(AFTER_MERGE_LANE_ID, 1)\n",
    "\n",
    "    # define curves\n",
    "    merge_point = VecE2(0.0, 0.0) \n",
    "    main_lane_startpt = merge_point + polar(main_lane_length, -float(pi) - main_lane_angle)\n",
    "    main_curve = gen_straight_curve(main_lane_startpt, merge_point, n_pts)\n",
    "    merge_index = curveindex_end(main_curve)\n",
    "    append_to_curve!(main_curve, \n",
    "        gen_straight_curve(merge_point, merge_point + polar(after_merge_length, 0.0), n_pts)[2:end])\n",
    "    merge_lane_startpt = merge_point + polar(merge_lane_length, float(pi) + merge_lane_angle)\n",
    "    merge_curve = gen_straight_curve(merge_lane_startpt, merge_point, n_pts)\n",
    "\n",
    "\n",
    "    # define lanes with connections \n",
    "    main_lane = Lane(main_tag, main_curve, width = lane_width, speed_limit=SpeedLimit(0.,main_lane_vmax))\n",
    "    merge_lane = Lane(merge_tag, merge_curve, width = lane_width,speed_limit=SpeedLimit(0.,merge_lane_vmax),\n",
    "                        next=RoadIndex(merge_index, main_tag))\n",
    "\n",
    "    # add segments to roadway \n",
    "    push!(roadway.segments, RoadSegment(MAIN_LANE_ID, [main_lane]))\n",
    "    push!(roadway.segments, RoadSegment(MERGE_LANE_ID, [merge_lane]))\n",
    "  \n",
    "    return roadway\n",
    "end"
   ]
  },
  {
   "cell_type": "code",
   "execution_count": null,
   "metadata": {},
   "outputs": [],
   "source": [
    "scene = Scene()\n",
    "state1 = VehicleState(Frenet(roadway[LaneTag(1,1)],3.0), roadway, 10.0)\n",
    "veh1 = Vehicle(state1, VehicleDef(), 1)\n",
    "\n",
    "push!(scene, veh1)"
   ]
  },
  {
   "cell_type": "code",
   "execution_count": null,
   "metadata": {},
   "outputs": [],
   "source": [
    "cpt_o = curvepts_overlay(roadway,colorant\"0xFFEF00\",0.3)\n",
    "render(scene,roadway,[cpt_o],cam=FitToContentCamera(0.2))"
   ]
  },
  {
   "cell_type": "code",
   "execution_count": null,
   "metadata": {},
   "outputs": [],
   "source": [
    "# roadway creation: make a merging roadway\n",
    "roadway2 = generate_merging_roadway(3.,20.,15.,40.,40.,40.,0.,-float(0.1));\n",
    "cpt_o = curvepts_overlay(roadway2,colorant\"0xFFEF00\",0.3)\n",
    "scene2 = Scene()\n",
    "state2 = VehicleState(Frenet(roadway2[LaneTag(1,1)],13.0), roadway2, 10.0)\n",
    "veh1 = Vehicle(state2, VehicleDef(), 1)\n",
    "\n",
    "state3 = VehicleState(Frenet(roadway2[LaneTag(2,1)],5.0),roadway2,10.0)\n",
    "veh2 = Vehicle(state3,VehicleDef(),2)\n",
    "push!(scene2, veh1)\n",
    "push!(scene2,veh2)\n",
    "render(scene2,roadway2,[cpt_o],cam=FitToContentCamera(0.2))"
   ]
  },
  {
   "cell_type": "code",
   "execution_count": null,
   "metadata": {},
   "outputs": [],
   "source": [
    "scene_list = get_hallucination_scenes(scene2,models=models,traj=int_trajdata,roadway=roadway2)"
   ]
  },
  {
   "cell_type": "code",
   "execution_count": null,
   "metadata": {},
   "outputs": [],
   "source": [
    "scenelist2video(scene_list,roadway=roadway2,filename=\"media/interaction_vids/merge.mp4\")"
   ]
  },
  {
   "cell_type": "markdown",
   "metadata": {},
   "source": [
    "## William Brannon's roadway"
   ]
  },
  {
   "cell_type": "code",
   "execution_count": null,
   "metadata": {
    "code_folding": [
     0
    ]
   },
   "outputs": [],
   "source": [
    "# WBs example code for roadway generation: function and then script\n",
    "function get_track_wb()\n",
    "\n",
    "    x_coods = [0., 20.]\n",
    "    y_coods = [3., 3.]\n",
    "    theta = [0., 0.]\n",
    "    \n",
    "    turn_length = 10\n",
    "    new_theta = 0.\n",
    "    incremental_angle = (pi/4) / turn_length\n",
    "    radius = 1\n",
    "    for i = 1:turn_length\n",
    "        push!(theta, new_theta)\n",
    "        push!(x_coods, x_coods[end] + radius * cos(new_theta))\n",
    "        push!(y_coods, y_coods[end] + radius * sin(new_theta))\n",
    "        new_theta -= (incremental_angle)\n",
    "    end\n",
    "\n",
    "    # x coods in first row, y coods in second row, theta in third row\n",
    "    mid_coods = vcat(x_coods', y_coods', theta') \n",
    "    \n",
    "    \n",
    "    first_cood = VecSE2(mid_coods[1,1], mid_coods[2,1], mid_coods[3,1])\n",
    "    second_cood = VecSE2(mid_coods[1,2], mid_coods[2,2], mid_coods[3,2])\n",
    "    radius = 0.01\n",
    "    nsamples = 20\n",
    "\n",
    "    track = gen_bezier_curve(first_cood, second_cood, radius, radius, nsamples)\n",
    "    \n",
    "    curve_radius = incremental_angle\n",
    "    nsamples = 1000\n",
    "    for i = 3:turn_length+2\n",
    "        turn1 = VecSE2(mid_coods[1, i-1], mid_coods[2, i-1], mid_coods[3, i-1])\n",
    "        turn2 = VecSE2(mid_coods[1, i], mid_coods[2, i], mid_coods[3, i])\n",
    "        curve = gen_bezier_curve(turn1, turn2, curve_radius, curve_radius, nsamples)\n",
    "        append_to_curve!(track, curve)\n",
    "    end\n",
    "\n",
    "    return track\n",
    "end\n",
    "\n",
    "# script: generate WB's roadway\n",
    "nlanes = 1\n",
    "\n",
    "\n",
    "roadway_wb = gen_straight_roadway(nlanes, 50.)\n",
    "\n",
    "#width = DEFAULT_LANE_WIDTH\n",
    "#roadway = Roadway()\n",
    "\n",
    "track_wb = get_track_wb()\n",
    "\n",
    "lane = Lane(LaneTag(2, 1), track_wb, width=DEFAULT_LANE_WIDTH)\n",
    "push!(roadway_wb.segments, RoadSegment(2, [lane]))\n",
    "cam = FitToContentCamera(0.05)\n",
    "render(roadway_wb, cam=cam)"
   ]
  },
  {
   "cell_type": "code",
   "execution_count": null,
   "metadata": {},
   "outputs": [],
   "source": [
    "cpt_o_wb = curvepts_overlay(roadway_wb,colorant\"0xFFEF00\",0.3)\n",
    "scene_wb = Scene()\n",
    "state_wb = VehicleState(Frenet(roadway_wb[LaneTag(1,1)],13.0), roadway_wb, 10.0)\n",
    "veh1 = Vehicle(state_wb, VehicleDef(), 1)\n",
    "l2 = roadway_wb.segments[2].lanes[1]\n",
    "state_wb2 = VehicleState(Frenet(roadway_wb[LaneTag(2,1)],5.0),roadway_wb,10.0)\n",
    "@show \"here2\"\n",
    "veh2 = Vehicle(state_wb2,VehicleDef(),2)\n",
    "push!(scene_wb, veh1)\n",
    "push!(scene_wb,veh2)\n",
    "render(scene_wb,roadway_wb,[cpt_o_wb],cam=FitToContentCamera(0.2))"
   ]
  },
  {
   "cell_type": "code",
   "execution_count": null,
   "metadata": {},
   "outputs": [],
   "source": [
    "scene_list_wb = get_hallucination_scenes(scene_wb,duration=5,models=models,\n",
    "    traj=int_trajdata,roadway=roadway_wb)\n",
    "scenelist2video(scene_list_wb,roadway=roadway_wb,filename=\"media/interaction_vids/merge_wb.mp4\")"
   ]
  },
  {
   "cell_type": "markdown",
   "metadata": {},
   "source": [
    "## Driving simulation functions"
   ]
  },
  {
   "cell_type": "code",
   "execution_count": null,
   "metadata": {
    "code_folding": [
     0
    ]
   },
   "outputs": [],
   "source": [
    "# models creation: 2d driver model for the merging roadway\n",
    "models = Dict{Int64,DriverModel}()\n",
    "for veh in scene2\n",
    "    models[veh.id] = Tim2DDriver(0.1,mlane=MOBIL(INTERACTION_TIMESTEP,mlon=IntelligentDriverModel()))\n",
    "end"
   ]
  },
  {
   "cell_type": "code",
   "execution_count": null,
   "metadata": {
    "code_folding": [
     0
    ]
   },
   "outputs": [],
   "source": [
    "# function: get hallucination scenes\n",
    "\"\"\"\n",
    "    function get_hallucination_scenes\n",
    "- Hallucinate starting from `start_step` for `nsteps` using `models` and return a list of scenes\n",
    "- Used by `plot_carwise_pos_vel` to assess position and velocity traces against ground truth\n",
    "\n",
    "# Returns\n",
    "- `halluc_scenes_list`: List containing the scenes starting with the ground truth scene at `start_step`\n",
    "\n",
    "# Examples\n",
    "```julia\n",
    "scene_list = get_hallucination_scenes(start_scene,nsteps=100,models=models);\n",
    "```\n",
    "\"\"\"\n",
    "function get_hallucination_scenes(scene_halluc;models,start_step=1,duration=3,id_list=[],\n",
    "        traj=traj_interaction,verbosity = false,timestep=INTERACTION_TIMESTEP,roadway=roadway_interaction)\n",
    "        # Setting up\n",
    "    halluc_scenes_list = []\n",
    "    #scene_halluc = get_scene(start_step,traj) # Frame to start hallucination from\n",
    "    push!(halluc_scenes_list,deepcopy(scene_halluc))\n",
    "    \n",
    "    nsteps = duration/timestep\n",
    "    for (i,t) in enumerate(start_step:start_step+nsteps-1)\n",
    "        \n",
    "        if !isempty(id_list) keep_vehicle_subset!(scene_halluc,id_list) end\n",
    "        \n",
    "        actions = Array{Any}(undef,length(scene_halluc))\n",
    "\n",
    "            # Propagation of scene forward\n",
    "        get_actions!(actions,scene_halluc,roadway,models)\n",
    "\n",
    "        tick!(scene_halluc,roadway,actions,timestep)\n",
    "        \n",
    "        push!(halluc_scenes_list,deepcopy(scene_halluc))\n",
    "    end \n",
    "    return halluc_scenes_list\n",
    "end"
   ]
  }
 ],
 "metadata": {
  "kernelspec": {
   "display_name": "Julia 1.1.0",
   "language": "julia",
   "name": "julia-1.1"
  },
  "language_info": {
   "file_extension": ".jl",
   "mimetype": "application/julia",
   "name": "julia",
   "version": "1.1.0"
  }
 },
 "nbformat": 4,
 "nbformat_minor": 2
}
