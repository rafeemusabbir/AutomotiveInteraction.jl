{
 "cells": [
  {
   "cell_type": "markdown",
   "metadata": {},
   "source": [
    "## Notebook to work with interaction dataset merge scenario `DR_CHN_Merging_ZS`\n",
    "    - Roadway generation\n",
    "    - Trajdata creation based on reading vehicle tracks from provided csv files\n",
    "\n",
    "## Changelog\n",
    "- Friday, Jan 31\n",
    "    - Creation\n",
    "    - Toy track generation using way if 10025 from `DR_CHN_Merging_ZS.osm`\n",
    "- Monday, Feb 3\n",
    "    - Begin trajdata creation to read in the vehicle tracks. Creation of struct called `INTERACTIONTrajdata`\n",
    "- Tuesday, Feb 4\n",
    "    - `Trajdata` reading nominally works. And rendered a scene of course without roadway. Some caveats\n",
    "        - `car_df_index` line 21 onwards check is commented out\n",
    "        - No `roadway` involved in the creation of `RecordState`\n",
    "    - Made a video of replaying the trajdata, of course without roadway, just cars in the blackness\n",
    "- Wednesday, Feb 5\n",
    "    - roadway building using `generate_merging_roadway` from `AutonomousMerging.jl`\n",
    "    - brought in `curevept_overlay` to do overlay the curve points that constitute a road\n",
    "    - Drove a car in the merging scenario to check that lane semantics works i.e. vehicle understands\n",
    "    how to keep lane\n",
    "    - second roadway inspired by William Brannon curved merging lane\n",
    "- Friday, Feb 7\n",
    "    - Started pipeline to read Soyeon's centerline data files\n",
    "    - Generated video replaying interaction dataset on roadways\n",
    "- Monday, Feb 10\n",
    "    - Cleanup to prepare for commit to `sisl/AutomotiveInteraction`\n",
    "- Wednesday, Feb 12\n",
    "    - Found that the vehicle state needs to have roadway information. Otherwise `observe!` in MOBIL cries\n",
    "    - This means that we can't initialize the vehicle state the way we have done so far i.e. \n",
    "    without providing a `roadway` argument\n",
    "    - Need to understand `lanes` and `lanetags` and modify roadway creation in terms of how tracks read from\n",
    "    centerlines txt files into the roadway object\n",
    "- Friday, Feb 14\n",
    "    - Got `proj` to work by making `roadway_interaction` in such a way that there are 7 segments, and each segment has only 1 lane. Thus during lane creation, the associated lanetag has `LaneTag(segment_id,1)` as opposed to earlier when the second argument of the LaneTag was going from 1 to 7"
   ]
  },
  {
   "cell_type": "code",
   "execution_count": 1,
   "metadata": {
    "code_folding": [
     0
    ]
   },
   "outputs": [],
   "source": [
    "# usings\n",
    "using AutomotiveDrivingModels # Driving simulation platform\n",
    "using AutoViz # Visualization of roadways and vehicles\n",
    "using DataFrames # For reading in vehicle tracks into specific type `Trajdata`\n",
    "using Records # Storing the vehicle tracks in a format that can then be used by `AutomotiveDrivingModels`\n",
    "using Reel # Make animations of scene visualizations created using `AutoViz`\n",
    "using DelimitedFiles # Read in centerline txt files into arrays"
   ]
  },
  {
   "cell_type": "code",
   "execution_count": 2,
   "metadata": {
    "code_folding": [
     0
    ]
   },
   "outputs": [],
   "source": [
    "# Bring functions into notebook: names are self explanatory\n",
    "include(\"../src/roadway_building.jl\")\n",
    "include(\"../src/veh_track_reading.jl\")\n",
    "include(\"../src/visualization.jl\");"
   ]
  },
  {
   "cell_type": "markdown",
   "metadata": {},
   "source": [
    "## Read vehicle tracks from csv file\n",
    "- Functions used (from `AutomotiveInteraction/src/veh_track_reading.jl`)\n",
    "    - nframes\n",
    "    - carsinframe\n",
    "    - car_df_index"
   ]
  },
  {
   "cell_type": "code",
   "execution_count": 3,
   "metadata": {
    "code_folding": []
   },
   "outputs": [
    {
     "name": "stderr",
     "output_type": "stream",
     "text": [
      "┌ Warning: readtable is deprecated, use CSV.read from the CSV package instead\n",
      "│   caller = ip:0x0\n",
      "└ @ Core :-1\n"
     ]
    }
   ],
   "source": [
    "# script: read data from csv file into INTERACTIONTrajdata struct and prepare for next steps i.e.\n",
    "# what Base.convert(::Type{Trajdata}, tdraw::NGSIMTrajdata, roadway::Roadway) does in NGSIM/trajdata.jl\n",
    "tdraw = INTERACTIONTrajdata(\"../dataset/vehicle_tracks_000.csv\");\n",
    "df = tdraw.df\n",
    "vehdefs = Dict{Int, VehicleDef}()\n",
    "states = Array{RecordState{VehicleState, Int}}(undef, nrow(df))\n",
    "frames = Array{RecordFrame}(undef, nframes(tdraw));"
   ]
  },
  {
   "cell_type": "code",
   "execution_count": 4,
   "metadata": {
    "code_folding": []
   },
   "outputs": [],
   "source": [
    "# script: initialize the vehicle definition in terms of type, length and width\n",
    "for (id, dfind) in tdraw.car2start\n",
    "    # CAUTION: Hardcoding vehicle type to be just car shown by the first argument being 2\n",
    "    vehdefs[id] = VehicleDef(2, df[dfind, :length], df[dfind, :width])\n",
    "    #if df[dfind,:agent_type] == \"car\"\n",
    "    #    print(\"dfind is $(dfind)\")\n",
    "    #    print(df[dfind,:agent_type])\n",
    "    #end\n",
    "end"
   ]
  },
  {
   "cell_type": "code",
   "execution_count": 112,
   "metadata": {
    "code_folding": []
   },
   "outputs": [],
   "source": [
    "# script: loop over data and create the vehicle state sequence. NOTE: THIS NEEDS THE ROADWAY\n",
    "state_ind = 0\n",
    "\n",
    "for frame in 1 : nframes(tdraw)\n",
    "\n",
    "    frame_lo = state_ind+1\n",
    "\n",
    "    for id in carsinframe(tdraw, frame)\n",
    "\n",
    "        dfind = car_df_index(tdraw, id, frame)\n",
    "\n",
    "        posG = VecSE2(df[dfind, :x], df[dfind, :y], df[dfind, :psi_rad])\n",
    "        vx = df[dfind,:vx]\n",
    "        vy = df[dfind,:vy]\n",
    "        speed = sqrt(vx*vx + vy*vy)\n",
    "#@show posG\n",
    "#@show VehicleState(posG,speed)\n",
    "#@show proj_test(posG,roadway_interaction)\n",
    "        #@show Frenet(posG,roadway_interaction)\n",
    "        #@show VehicleState(posG,roadway_interaction,speed)\n",
    "        states[state_ind += 1] = RecordState(VehicleState(posG, roadway_interaction, speed), id)\n",
    "        #states[state_ind += 1] = RecordState(VehicleState(posG, speed), id)\n",
    "    end\n",
    "\n",
    "    frame_hi = state_ind\n",
    "    frames[frame] = RecordFrame(frame_lo, frame_hi)\n",
    "end\n",
    "traj_interaction = Trajdata(INTERACTION_TIMESTEP, frames, states, vehdefs);"
   ]
  },
  {
   "cell_type": "markdown",
   "metadata": {},
   "source": [
    "## centerlines_DR_Merging_CHN_ZS a.k.a read Soyeon roadways\n",
    "- functions used (from `AutomotiveInteraction/src/roadway_building.jl)\n",
    "    - centerlines_txt2tracks"
   ]
  },
  {
   "cell_type": "code",
   "execution_count": 81,
   "metadata": {},
   "outputs": [
    {
     "data": {
      "text/plain": [
       "1-element Array{Lane{Float64},1}:\n",
       " Lane{Float64}(LaneTag(1, 1), CurvePt{Float64}[CurvePt({1146.270, 973.136, -2.940}, 0.000, 0.000, NaN), CurvePt({1146.236, 973.129, -2.940}, 0.035, 0.000, NaN), CurvePt({1146.141, 973.110, -2.940}, 0.131, 0.000, NaN), CurvePt({1145.994, 973.080, -2.940}, 0.282, 0.000, NaN), CurvePt({1145.800, 973.040, -2.940}, 0.479, 0.000, NaN), CurvePt({1145.567, 972.992, -2.940}, 0.717, 0.000, NaN), CurvePt({1145.303, 972.938, -2.940}, 0.987, 0.000, NaN), CurvePt({1145.013, 972.879, -2.940}, 1.282, 0.000, NaN), CurvePt({1144.706, 972.816, -2.940}, 1.596, 0.000, NaN), CurvePt({1144.388, 972.751, -2.940}, 1.920, 0.000, NaN)  …  CurvePt({1066.793, 960.069, -3.008}, 80.614, 0.000, NaN), CurvePt({1066.381, 960.013, -3.008}, 81.029, 0.000, NaN), CurvePt({1065.983, 959.960, -3.008}, 81.431, 0.000, NaN), CurvePt({1065.608, 959.909, -3.008}, 81.810, 0.000, NaN), CurvePt({1065.265, 959.863, -3.008}, 82.156, 0.000, NaN), CurvePt({1064.963, 959.823, -3.008}, 82.460, 0.000, NaN), CurvePt({1064.713, 959.789, -3.008}, 82.713, 0.000, NaN), CurvePt({1064.522, 959.763, -3.008}, 82.906, 0.000, NaN), CurvePt({1064.400, 959.747, -3.008}, 83.029, 0.000, NaN), CurvePt({1064.356, 959.741, -3.008}, 83.073, 0.000, NaN)], 3.0, SpeedLimit(-Inf, Inf), LaneBoundary(:unknown, :unknown), LaneBoundary(:unknown, :unknown), LaneConnection{Int64,Float64}[], LaneConnection{Int64,Float64}[])"
      ]
     },
     "execution_count": 81,
     "metadata": {},
     "output_type": "execute_result"
    }
   ],
   "source": [
    "roadway_interaction[1].lanes"
   ]
  },
  {
   "cell_type": "code",
   "execution_count": 85,
   "metadata": {},
   "outputs": [
    {
     "data": {
      "text/plain": [
       "1-element Array{Lane{Float64},1}:\n",
       " Lane{Float64}(LaneTag(1, 1), CurvePt{Float64}[CurvePt({1146.270, 973.136, -2.940}, 0.000, 0.000, NaN), CurvePt({1146.236, 973.129, -2.940}, 0.035, 0.000, NaN), CurvePt({1146.141, 973.110, -2.940}, 0.131, 0.000, NaN), CurvePt({1145.994, 973.080, -2.940}, 0.282, 0.000, NaN), CurvePt({1145.800, 973.040, -2.940}, 0.479, 0.000, NaN), CurvePt({1145.567, 972.992, -2.940}, 0.717, 0.000, NaN), CurvePt({1145.303, 972.938, -2.940}, 0.987, 0.000, NaN), CurvePt({1145.013, 972.879, -2.940}, 1.282, 0.000, NaN), CurvePt({1144.706, 972.816, -2.940}, 1.596, 0.000, NaN), CurvePt({1144.388, 972.751, -2.940}, 1.920, 0.000, NaN)  …  CurvePt({1066.793, 960.069, -3.008}, 80.614, 0.000, NaN), CurvePt({1066.381, 960.013, -3.008}, 81.029, 0.000, NaN), CurvePt({1065.983, 959.960, -3.008}, 81.431, 0.000, NaN), CurvePt({1065.608, 959.909, -3.008}, 81.810, 0.000, NaN), CurvePt({1065.265, 959.863, -3.008}, 82.156, 0.000, NaN), CurvePt({1064.963, 959.823, -3.008}, 82.460, 0.000, NaN), CurvePt({1064.713, 959.789, -3.008}, 82.713, 0.000, NaN), CurvePt({1064.522, 959.763, -3.008}, 82.906, 0.000, NaN), CurvePt({1064.400, 959.747, -3.008}, 83.029, 0.000, NaN), CurvePt({1064.356, 959.741, -3.008}, 83.073, 0.000, NaN)], 3.0, SpeedLimit(-Inf, Inf), LaneBoundary(:unknown, :unknown), LaneBoundary(:unknown, :unknown), LaneConnection{Int64,Float64}[], LaneConnection{Int64,Float64}[])"
      ]
     },
     "execution_count": 85,
     "metadata": {},
     "output_type": "execute_result"
    }
   ],
   "source": [
    "roadway_interaction.segments[1].lanes"
   ]
  },
  {
   "cell_type": "code",
   "execution_count": 6,
   "metadata": {
    "code_folding": []
   },
   "outputs": [],
   "source": [
    "# Read centerlines from Soyeon provided text files\n",
    "track0 = centerlines_txt2tracks(\"../dataset/centerlines_DR_CHN_Merging_ZS/output_centerline_0.txt\")\n",
    "track1 = centerlines_txt2tracks(\"../dataset/centerlines_DR_CHN_Merging_ZS/output_centerline_1.txt\")\n",
    "track2 = centerlines_txt2tracks(\"../dataset/centerlines_DR_CHN_Merging_ZS/output_centerline_2.txt\")\n",
    "track3 = centerlines_txt2tracks(\"../dataset/centerlines_DR_CHN_Merging_ZS/output_centerline_3.txt\")\n",
    "track4 = centerlines_txt2tracks(\"../dataset/centerlines_DR_CHN_Merging_ZS/output_centerline_4.txt\")\n",
    "track5 = centerlines_txt2tracks(\"../dataset/centerlines_DR_CHN_Merging_ZS/output_centerline_5.txt\")\n",
    "track6 = centerlines_txt2tracks(\"../dataset/centerlines_DR_CHN_Merging_ZS/output_centerline_6.txt\");"
   ]
  },
  {
   "cell_type": "code",
   "execution_count": 110,
   "metadata": {
    "code_folding": []
   },
   "outputs": [],
   "source": [
    "# Build a roadway using the tracks and render it\n",
    "roadway_interaction = Roadway()\n",
    "lane0 = Lane(LaneTag(1,1),track0)\n",
    "lane1 = Lane(LaneTag(2,1),track1)\n",
    "lane2 = Lane(LaneTag(3,1),track2)\n",
    "lane3 = Lane(LaneTag(4,1),track3)\n",
    "lane4 = Lane(LaneTag(5,1),track4)\n",
    "lane5 = Lane(LaneTag(6,1),track5)\n",
    "lane6 = Lane(LaneTag(7,1),track6)\n",
    "push!(roadway_interaction.segments, RoadSegment(1, [lane0]))\n",
    "push!(roadway_interaction.segments, RoadSegment(2, [lane1]))\n",
    "push!(roadway_interaction.segments, RoadSegment(3, [lane2]))\n",
    "push!(roadway_interaction.segments, RoadSegment(4, [lane3]))\n",
    "push!(roadway_interaction.segments, RoadSegment(5, [lane4]))\n",
    "push!(roadway_interaction.segments, RoadSegment(6, [lane5]))\n",
    "push!(roadway_interaction.segments, RoadSegment(7, [lane6]));\n",
    "# render(roadway_interaction, cam=FitToContentCamera(0.))"
   ]
  },
  {
   "cell_type": "code",
   "execution_count": 88,
   "metadata": {},
   "outputs": [
    {
     "data": {
      "text/plain": [
       "1-element Array{Lane{Float64},1}:\n",
       " Lane{Float64}(LaneTag(1, 1), CurvePt{Float64}[CurvePt({1146.270, 973.136, -2.940}, 0.000, 0.000, NaN), CurvePt({1146.236, 973.129, -2.940}, 0.035, 0.000, NaN), CurvePt({1146.141, 973.110, -2.940}, 0.131, 0.000, NaN), CurvePt({1145.994, 973.080, -2.940}, 0.282, 0.000, NaN), CurvePt({1145.800, 973.040, -2.940}, 0.479, 0.000, NaN), CurvePt({1145.567, 972.992, -2.940}, 0.717, 0.000, NaN), CurvePt({1145.303, 972.938, -2.940}, 0.987, 0.000, NaN), CurvePt({1145.013, 972.879, -2.940}, 1.282, 0.000, NaN), CurvePt({1144.706, 972.816, -2.940}, 1.596, 0.000, NaN), CurvePt({1144.388, 972.751, -2.940}, 1.920, 0.000, NaN)  …  CurvePt({1066.793, 960.069, -3.008}, 80.614, 0.000, NaN), CurvePt({1066.381, 960.013, -3.008}, 81.029, 0.000, NaN), CurvePt({1065.983, 959.960, -3.008}, 81.431, 0.000, NaN), CurvePt({1065.608, 959.909, -3.008}, 81.810, 0.000, NaN), CurvePt({1065.265, 959.863, -3.008}, 82.156, 0.000, NaN), CurvePt({1064.963, 959.823, -3.008}, 82.460, 0.000, NaN), CurvePt({1064.713, 959.789, -3.008}, 82.713, 0.000, NaN), CurvePt({1064.522, 959.763, -3.008}, 82.906, 0.000, NaN), CurvePt({1064.400, 959.747, -3.008}, 83.029, 0.000, NaN), CurvePt({1064.356, 959.741, -3.008}, 83.073, 0.000, NaN)], 3.0, SpeedLimit(-Inf, Inf), LaneBoundary(:unknown, :unknown), LaneBoundary(:unknown, :unknown), LaneConnection{Int64,Float64}[], LaneConnection{Int64,Float64}[])"
      ]
     },
     "execution_count": 88,
     "metadata": {},
     "output_type": "execute_result"
    }
   ],
   "source": [
    "roadway_interaction.segments[1].lanes"
   ]
  },
  {
   "cell_type": "code",
   "execution_count": 91,
   "metadata": {
    "code_folding": []
   },
   "outputs": [
    {
     "data": {
      "text/plain": [
       "proj_test"
      ]
     },
     "execution_count": 91,
     "metadata": {},
     "output_type": "execute_result"
    }
   ],
   "source": [
    "# tester function: proj_test\n",
    "\"\"\"\n",
    "Test the Vec.proj defined at this link\n",
    "https://github.com/sisl/AutomotiveDrivingModels.jl/\n",
    "blob/6bb5f82e7b56e75c158c796234e2e6a43efe46d7/src/roadways/roadways.jl#L609\n",
    "\"\"\"\n",
    "function proj_test(posG::VecSE2{T}, roadway::Roadway) where T <: Real\n",
    "\n",
    "    best_dist2 = Inf\n",
    "    best_proj = RoadProjection(CurveProjection(CurveIndex(-1,convert(T,-1.0)), convert(T, NaN), \n",
    "                                               convert(T, NaN)),NULL_LANETAG)\n",
    "\n",
    "    for seg in roadway.segments\n",
    "        @show seg.id\n",
    "        for lane in seg.lanes\n",
    "            @show \"lane loop starts\"\n",
    "            @show lane.tag\n",
    "            roadproj = proj(posG, lane, roadway, move_along_curves=false)\n",
    "            @show roadproj\n",
    "            @show roadproj.tag\n",
    "            targetlane = roadway[roadproj.tag]\n",
    "            #@show targetlane\n",
    "            footpoint = targetlane[roadproj.curveproj.ind, roadway]\n",
    "            @show footpoint\n",
    "            dist2 = normsquared(VecE2(posG - footpoint.pos))\n",
    "            @show dist2\n",
    "            if dist2 < best_dist2\n",
    "                best_dist2 = dist2\n",
    "                best_proj = roadproj\n",
    "            end\n",
    "        end\n",
    "    end\n",
    "\n",
    "    best_proj\n",
    "end"
   ]
  },
  {
   "cell_type": "code",
   "execution_count": 117,
   "metadata": {
    "code_folding": []
   },
   "outputs": [],
   "source": [
    "# Get a scene from the vehicle track information read in earlier and render on the road\n",
    "scene = Scene(500)\n",
    "get!(scene,traj_interaction,1);\n",
    "# render(scene,roadway_interaction)"
   ]
  },
  {
   "cell_type": "code",
   "execution_count": null,
   "metadata": {},
   "outputs": [],
   "source": [
    "# Make a video that gets saved to the folder AutomotiveInteraction/julia_notebooks/media\n",
    "video_trajdata_replay(range=1:100,filename=\"media/vid_$(range).mp4\")"
   ]
  },
  {
   "cell_type": "markdown",
   "metadata": {},
   "source": [
    "## Driving simulation functions"
   ]
  },
  {
   "cell_type": "code",
   "execution_count": 115,
   "metadata": {},
   "outputs": [],
   "source": [
    "# models creation: 2d driver model for the merging roadway\n",
    "models = Dict{Int64,DriverModel}()\n",
    "for veh in scene\n",
    "    models[veh.id] = Tim2DDriver(0.1,mlane=MOBIL(INTERACTION_TIMESTEP,mlon=IntelligentDriverModel()))\n",
    "end"
   ]
  },
  {
   "cell_type": "code",
   "execution_count": 10,
   "metadata": {
    "code_folding": []
   },
   "outputs": [
    {
     "data": {
      "text/plain": [
       "get_hallucination_scenes"
      ]
     },
     "execution_count": 10,
     "metadata": {},
     "output_type": "execute_result"
    }
   ],
   "source": [
    "# function: get hallucination scenes\n",
    "\"\"\"\n",
    "    function get_hallucination_scenes\n",
    "- Hallucinate starting from `start_step` for `nsteps` using `models` and return a list of scenes\n",
    "- Used by `plot_carwise_pos_vel` to assess position and velocity traces against ground truth\n",
    "\n",
    "# Returns\n",
    "- `halluc_scenes_list`: List containing the scenes starting with the ground truth scene at `start_step`\n",
    "\n",
    "# Examples\n",
    "```julia\n",
    "scene_list = get_hallucination_scenes(start_scene,nsteps=100,models=models);\n",
    "```\n",
    "\"\"\"\n",
    "function get_hallucination_scenes(scene_halluc;models,start_step=1,duration=3,id_list=[],\n",
    "        traj=traj_interaction,verbosity = false,timestep=INTERACTION_TIMESTEP,roadway=roadway_interaction)\n",
    "        # Setting up\n",
    "    halluc_scenes_list = []\n",
    "    #scene_halluc = get_scene(start_step,traj) # Frame to start hallucination from\n",
    "    push!(halluc_scenes_list,deepcopy(scene_halluc))\n",
    "    \n",
    "    nsteps = duration/timestep\n",
    "    for (i,t) in enumerate(start_step:start_step+nsteps-1)\n",
    "        \n",
    "        if !isempty(id_list) keep_vehicle_subset!(scene_halluc,id_list) end\n",
    "        \n",
    "        actions = Array{Any}(undef,length(scene_halluc))\n",
    "\n",
    "            # Propagation of scene forward\n",
    "        get_actions!(actions,scene_halluc,roadway,models)\n",
    "\n",
    "        tick!(scene_halluc,roadway,actions,timestep)\n",
    "        \n",
    "        push!(halluc_scenes_list,deepcopy(scene_halluc))\n",
    "    end \n",
    "    return halluc_scenes_list\n",
    "end"
   ]
  },
  {
   "cell_type": "code",
   "execution_count": 118,
   "metadata": {},
   "outputs": [
    {
     "data": {
      "text/plain": [
       "2"
      ]
     },
     "execution_count": 118,
     "metadata": {},
     "output_type": "execute_result"
    }
   ],
   "source": [
    "scene[1].state.posF.roadind.tag.segment"
   ]
  },
  {
   "cell_type": "code",
   "execution_count": 119,
   "metadata": {},
   "outputs": [],
   "source": [
    "scene_list = get_hallucination_scenes(scene,models=models);"
   ]
  },
  {
   "cell_type": "code",
   "execution_count": 125,
   "metadata": {},
   "outputs": [
    {
     "data": {
      "text/plain": [
       "scenelist2video"
      ]
     },
     "execution_count": 125,
     "metadata": {},
     "output_type": "execute_result"
    }
   ],
   "source": [
    "\"\"\"\n",
    "    function scenelist2video(scene_list;filename = \"media/mobil/scene_to_video.mp4\")\n",
    "- Make video from a list of scenes\n",
    "\n",
    "# Examples\n",
    "```julia\n",
    "scenelist2video(scene_list,id_list=id_list,filename=\"media/scenelist_to_video.mp4\")\n",
    "```\n",
    "\"\"\"\n",
    "function scenelist2video(scene_list;id_list=[],filename = \"media/scenelist_to_video.mp4\",\n",
    "        roadway=roadway_interaction)\n",
    "    frames = Frames(MIME(\"image/png\"),fps = 10)\n",
    "    \n",
    "    # Loop over list of scenes and convert to video\n",
    "    for i in 1:length(scene_list)\n",
    "        if !isempty(id_list) keep_vehicle_subset!(scene_list[i],id_list) end\n",
    "        scene_visual = render(scene_list[i],roadway,\n",
    "        #[IDOverlay(colorant\"white\",12)],\n",
    "        cam=FitToContentCamera(0.),\n",
    "        #cam = SceneFollowCamera(10.)\n",
    "        )\n",
    "        push!(frames,scene_visual)\n",
    "    end\n",
    "    print(\"Making video filename: $(filename)\\n\")\n",
    "    write(filename,frames)\n",
    "    return nothing\n",
    "end"
   ]
  },
  {
   "cell_type": "code",
   "execution_count": 126,
   "metadata": {},
   "outputs": [
    {
     "name": "stdout",
     "output_type": "stream",
     "text": [
      "Making video filename: media/scenelist_to_video.mp4\n"
     ]
    }
   ],
   "source": [
    "scenelist2video(scene_list,filename=\"media/scenelist_to_video.mp4\")"
   ]
  },
  {
   "cell_type": "markdown",
   "metadata": {},
   "source": [
    "## Understand road projection"
   ]
  },
  {
   "cell_type": "code",
   "execution_count": 95,
   "metadata": {},
   "outputs": [],
   "source": [
    "roadway_toy = gen_straight_roadway(2,100.);"
   ]
  },
  {
   "cell_type": "code",
   "execution_count": 96,
   "metadata": {},
   "outputs": [
    {
     "data": {
      "text/plain": [
       "3-element VecSE2{Float64}:\n",
       " 50.0\n",
       "  3.0\n",
       "  0.0"
      ]
     },
     "execution_count": 96,
     "metadata": {},
     "output_type": "execute_result"
    }
   ],
   "source": [
    "posG = VecSE2(50.,3.,0.)"
   ]
  },
  {
   "cell_type": "code",
   "execution_count": 99,
   "metadata": {},
   "outputs": [
    {
     "name": "stdout",
     "output_type": "stream",
     "text": [
      "seg.id = 1\n",
      "\"lane loop starts\" = \"lane loop starts\"\n",
      "lane.tag = LaneTag(1, 1)\n",
      "roadproj = RoadProjection{Int64,Float64}(CurveProjection({1, 0.500}, 3.000, 0.000), LaneTag(1, 1))\n",
      "roadproj.tag = LaneTag(1, 1)\n",
      "footpoint = CurvePt({50.000, 0.000, 0.000}, 50.000, NaN, NaN)\n",
      "dist2 = 9.0\n",
      "\"lane loop starts\" = \"lane loop starts\"\n",
      "lane.tag = LaneTag(1, 2)\n",
      "roadproj = RoadProjection{Int64,Float64}(CurveProjection({1, 0.500}, 0.000, 0.000), LaneTag(1, 2))\n",
      "roadproj.tag = LaneTag(1, 2)\n",
      "footpoint = CurvePt({50.000, 3.000, 0.000}, 50.000, NaN, NaN)\n",
      "dist2 = 0.0\n"
     ]
    },
    {
     "data": {
      "text/plain": [
       "RoadProjection{Int64,Float64}(CurveProjection({1, 0.500}, 0.000, 0.000), LaneTag(1, 2))"
      ]
     },
     "execution_count": 99,
     "metadata": {},
     "output_type": "execute_result"
    }
   ],
   "source": [
    "proj_test(posG,roadway_toy)"
   ]
  },
  {
   "cell_type": "code",
   "execution_count": 98,
   "metadata": {},
   "outputs": [
    {
     "data": {
      "text/plain": [
       "RoadProjection{Int64,Float64}(CurveProjection({1, 0.500}, 1.000, 0.000), LaneTag(1, 1))"
      ]
     },
     "execution_count": 98,
     "metadata": {},
     "output_type": "execute_result"
    }
   ],
   "source": [
    "proj(VecSE2(50.,1.,0.),roadway_toy)"
   ]
  },
  {
   "cell_type": "code",
   "execution_count": 100,
   "metadata": {},
   "outputs": [
    {
     "data": {
      "text/plain": [
       "1-element Array{RoadSegment{Float64},1}:\n",
       " RoadSegment{Float64}(1, Lane{Float64}[Lane{Float64}(LaneTag(1, 1), CurvePt{Float64}[CurvePt({0.000, 0.000, 0.000}, 0.000, NaN, NaN), CurvePt({100.000, 0.000, 0.000}, 100.000, NaN, NaN)], 3.0, SpeedLimit(-Inf, Inf), LaneBoundary(:broken, :white), LaneBoundary(:solid, :white), LaneConnection{Int64,Float64}[], LaneConnection{Int64,Float64}[]), Lane{Float64}(LaneTag(1, 2), CurvePt{Float64}[CurvePt({0.000, 3.000, 0.000}, 0.000, NaN, NaN), CurvePt({100.000, 3.000, 0.000}, 100.000, NaN, NaN)], 3.0, SpeedLimit(-Inf, Inf), LaneBoundary(:solid, :white), LaneBoundary(:broken, :white), LaneConnection{Int64,Float64}[], LaneConnection{Int64,Float64}[])])"
      ]
     },
     "execution_count": 100,
     "metadata": {},
     "output_type": "execute_result"
    }
   ],
   "source": [
    "roadway_toy.segments"
   ]
  },
  {
   "cell_type": "code",
   "execution_count": 101,
   "metadata": {},
   "outputs": [
    {
     "data": {
      "text/plain": [
       "2-element Array{Lane{Float64},1}:\n",
       " Lane{Float64}(LaneTag(1, 1), CurvePt{Float64}[CurvePt({0.000, 0.000, 0.000}, 0.000, NaN, NaN), CurvePt({100.000, 0.000, 0.000}, 100.000, NaN, NaN)], 3.0, SpeedLimit(-Inf, Inf), LaneBoundary(:broken, :white), LaneBoundary(:solid, :white), LaneConnection{Int64,Float64}[], LaneConnection{Int64,Float64}[])\n",
       " Lane{Float64}(LaneTag(1, 2), CurvePt{Float64}[CurvePt({0.000, 3.000, 0.000}, 0.000, NaN, NaN), CurvePt({100.000, 3.000, 0.000}, 100.000, NaN, NaN)], 3.0, SpeedLimit(-Inf, Inf), LaneBoundary(:solid, :white), LaneBoundary(:broken, :white), LaneConnection{Int64,Float64}[], LaneConnection{Int64,Float64}[])"
      ]
     },
     "execution_count": 101,
     "metadata": {},
     "output_type": "execute_result"
    }
   ],
   "source": [
    "roadway_toy.segments[1].lanes"
   ]
  },
  {
   "cell_type": "code",
   "execution_count": 104,
   "metadata": {},
   "outputs": [
    {
     "data": {
      "text/plain": [
       "1-element Array{Lane{Float64},1}:\n",
       " Lane{Float64}(LaneTag(1, 1), CurvePt{Float64}[CurvePt({1146.270, 973.136, -2.940}, 0.000, 0.000, NaN), CurvePt({1146.236, 973.129, -2.940}, 0.035, 0.000, NaN), CurvePt({1146.141, 973.110, -2.940}, 0.131, 0.000, NaN), CurvePt({1145.994, 973.080, -2.940}, 0.282, 0.000, NaN), CurvePt({1145.800, 973.040, -2.940}, 0.479, 0.000, NaN), CurvePt({1145.567, 972.992, -2.940}, 0.717, 0.000, NaN), CurvePt({1145.303, 972.938, -2.940}, 0.987, 0.000, NaN), CurvePt({1145.013, 972.879, -2.940}, 1.282, 0.000, NaN), CurvePt({1144.706, 972.816, -2.940}, 1.596, 0.000, NaN), CurvePt({1144.388, 972.751, -2.940}, 1.920, 0.000, NaN)  …  CurvePt({1066.793, 960.069, -3.008}, 80.614, 0.000, NaN), CurvePt({1066.381, 960.013, -3.008}, 81.029, 0.000, NaN), CurvePt({1065.983, 959.960, -3.008}, 81.431, 0.000, NaN), CurvePt({1065.608, 959.909, -3.008}, 81.810, 0.000, NaN), CurvePt({1065.265, 959.863, -3.008}, 82.156, 0.000, NaN), CurvePt({1064.963, 959.823, -3.008}, 82.460, 0.000, NaN), CurvePt({1064.713, 959.789, -3.008}, 82.713, 0.000, NaN), CurvePt({1064.522, 959.763, -3.008}, 82.906, 0.000, NaN), CurvePt({1064.400, 959.747, -3.008}, 83.029, 0.000, NaN), CurvePt({1064.356, 959.741, -3.008}, 83.073, 0.000, NaN)], 3.0, SpeedLimit(-Inf, Inf), LaneBoundary(:unknown, :unknown), LaneBoundary(:unknown, :unknown), LaneConnection{Int64,Float64}[], LaneConnection{Int64,Float64}[])"
      ]
     },
     "execution_count": 104,
     "metadata": {},
     "output_type": "execute_result"
    }
   ],
   "source": [
    "roadway_interaction.segments[1].lanes"
   ]
  },
  {
   "cell_type": "code",
   "execution_count": 106,
   "metadata": {},
   "outputs": [
    {
     "data": {
      "text/plain": [
       "3-element VecSE2{Float64}:\n",
       " 1067.493\n",
       "  959.049\n",
       "    3.106"
      ]
     },
     "execution_count": 106,
     "metadata": {},
     "output_type": "execute_result"
    }
   ],
   "source": [
    "posG = VecSE2(1067.493, 959.049, 3.106)"
   ]
  },
  {
   "cell_type": "code",
   "execution_count": 107,
   "metadata": {},
   "outputs": [
    {
     "data": {
      "text/plain": [
       "3-element VecSE2{Float64}:\n",
       " 1067.493\n",
       "  959.049\n",
       "    3.106"
      ]
     },
     "execution_count": 107,
     "metadata": {},
     "output_type": "execute_result"
    }
   ],
   "source": [
    "posG"
   ]
  },
  {
   "cell_type": "code",
   "execution_count": 111,
   "metadata": {},
   "outputs": [
    {
     "name": "stdout",
     "output_type": "stream",
     "text": [
      "seg.id = 1\n",
      "\"lane loop starts\" = \"lane loop starts\"\n",
      "lane.tag = LaneTag(1, 1)\n",
      "roadproj = RoadProjection{Int64,Float64}(CurveProjection({369, 0.669}, 1.104, 6.114), LaneTag(1, 1))\n",
      "roadproj.tag = LaneTag(1, 1)\n",
      "footpoint = CurvePt({1067.346, 960.143, -3.008}, 80.056, -0.000, NaN)\n",
      "dist2 = 1.2183385773064028\n",
      "seg.id = 2\n",
      "\"lane loop starts\" = \"lane loop starts\"\n",
      "lane.tag = LaneTag(2, 1)\n",
      "roadproj = RoadProjection{Int64,Float64}(CurveProjection({333, 0.470}, -0.026, 3.133), LaneTag(2, 1))\n",
      "roadproj.tag = LaneTag(2, 1)\n",
      "footpoint = CurvePt({1067.494, 959.075, -0.027}, 69.484, 0.000, NaN)\n",
      "dist2 = 0.000691936644693314\n",
      "seg.id = 3\n",
      "\"lane loop starts\" = \"lane loop starts\"\n",
      "lane.tag = LaneTag(3, 1)\n",
      "roadproj = RoadProjection{Int64,Float64}(CurveProjection({336, 0.000}, 4.005, 3.111), LaneTag(3, 1))\n",
      "roadproj.tag = LaneTag(3, 1)\n",
      "footpoint = CurvePt({1067.805, 955.042, -0.005}, 70.361, 0.000, NaN)\n",
      "dist2 = 16.15249797065879\n",
      "seg.id = 4\n",
      "\"lane loop starts\" = \"lane loop starts\"\n",
      "lane.tag = LaneTag(4, 1)\n",
      "roadproj = RoadProjection{Int64,Float64}(CurveProjection({385, 0.506}, -8.234, -0.028), LaneTag(4, 1))\n",
      "roadproj.tag = LaneTag(4, 1)\n",
      "footpoint = CurvePt({1067.433, 950.815, 3.134}, 79.737, -0.000, NaN)\n",
      "dist2 = 67.80375488137334\n",
      "seg.id = 5\n",
      "\"lane loop starts\" = \"lane loop starts\"\n",
      "lane.tag = LaneTag(5, 1)\n",
      "roadproj = RoadProjection{Int64,Float64}(CurveProjection({349, 0.615}, 13.179, 3.116), LaneTag(5, 1))\n",
      "roadproj.tag = LaneTag(5, 1)\n",
      "footpoint = CurvePt({1067.365, 945.871, -0.010}, 72.082, -0.000, NaN)\n",
      "dist2 = 173.68235082103294\n",
      "seg.id = 6\n",
      "\"lane loop starts\" = \"lane loop starts\"\n",
      "lane.tag = LaneTag(6, 1)\n",
      "roadproj = RoadProjection{Int64,Float64}(CurveProjection({349, 0.772}, 16.533, 3.115), LaneTag(6, 1))\n",
      "roadproj.tag = LaneTag(6, 1)\n",
      "footpoint = CurvePt({1067.344, 942.517, -0.009}, 73.109, -0.000, NaN)\n",
      "dist2 = 273.3407839763522\n",
      "seg.id = 7\n",
      "\"lane loop starts\" = \"lane loop starts\"\n",
      "lane.tag = LaneTag(7, 1)\n",
      "roadproj = RoadProjection{Int64,Float64}(CurveProjection({353, 0.000}, 20.626, 3.130), LaneTag(7, 1))\n",
      "roadproj.tag = LaneTag(7, 1)\n",
      "footpoint = CurvePt({1067.344, 938.420, -0.024}, 74.600, 0.000, NaN)\n",
      "dist2 = 425.5696957397355\n"
     ]
    },
    {
     "data": {
      "text/plain": [
       "RoadProjection{Int64,Float64}(CurveProjection({333, 0.470}, -0.026, 3.133), LaneTag(2, 1))"
      ]
     },
     "execution_count": 111,
     "metadata": {},
     "output_type": "execute_result"
    }
   ],
   "source": [
    "proj_test(posG,roadway_interaction)"
   ]
  },
  {
   "cell_type": "code",
   "execution_count": null,
   "metadata": {},
   "outputs": [],
   "source": []
  }
 ],
 "metadata": {
  "@webio": {
   "lastCommId": null,
   "lastKernelId": null
  },
  "kernelspec": {
   "display_name": "Julia 1.1.0",
   "language": "julia",
   "name": "julia-1.1"
  },
  "language_info": {
   "file_extension": ".jl",
   "mimetype": "application/julia",
   "name": "julia",
   "version": "1.1.0"
  }
 },
 "nbformat": 4,
 "nbformat_minor": 2
}
