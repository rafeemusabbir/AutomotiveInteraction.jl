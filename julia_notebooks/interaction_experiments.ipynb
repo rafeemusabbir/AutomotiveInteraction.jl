{
 "cells": [
  {
   "cell_type": "markdown",
   "metadata": {},
   "source": [
    "## Notebook to work with interaction dataset merge scenario `DR_CHN_Merging_ZS`\n",
    "    - Roadway generation\n",
    "    - Trajdata creation based on reading vehicle tracks from provided csv files\n",
    "\n",
    "## Changelog\n",
    "- Friday, Jan 31\n",
    "    - Creation\n",
    "    - Toy track generation using way if 10025 from `DR_CHN_Merging_ZS.osm`\n",
    "- Monday, Feb 3\n",
    "    - Begin trajdata creation to read in the vehicle tracks. Creation of struct called `INTERACTIONTrajdata`\n",
    "- Tuesday, Feb 4\n",
    "    - `Trajdata` reading nominally works. And rendered a scene of course without roadway. Some caveats\n",
    "        - `car_df_index` line 21 onwards check is commented out\n",
    "        - No `roadway` involved in the creation of `RecordState`\n",
    "    - Made a video of replaying the trajdata, of course without roadway, just cars in the blackness\n",
    "- Wednesday, Feb 5\n",
    "    - roadway building using `generate_merging_roadway` from `AutonomousMerging.jl`\n",
    "    - brought in `curevept_overlay` to do overlay the curve points that constitute a road\n",
    "    - Drove a car in the merging scenario to check that lane semantics works i.e. vehicle understands\n",
    "    how to keep lane\n",
    "    - second roadway inspired by William Brannon curved merging lane\n",
    "- Friday, Feb 7\n",
    "    - Started pipeline to read Soyeon's centerline data files\n",
    "    - Generated video replaying interaction dataset on roadways\n",
    "- Monday, Feb 10\n",
    "    - Cleanup to prepare for commit to `sisl/AutomotiveInteraction`\n",
    "- Wednesday, Feb 12\n",
    "    - Found that the vehicle state needs to have roadway information. Otherwise `observe!` in MOBIL cries\n",
    "    - This means that we can't initialize the vehicle state the way we have done so far i.e. \n",
    "    without providing a `roadway` argument\n",
    "    - Need to understand `lanes` and `lanetags` and modify roadway creation in terms of how tracks read from\n",
    "    centerlines txt files into the roadway object\n",
    "- Friday, Feb 14\n",
    "    - Got `proj` to work by making `roadway_interaction` in such a way that there are 7 segments, and each segment has only 1 lane. Thus during lane creation, the associated lanetag has `LaneTag(segment_id,1)` as opposed to earlier when the second argument of the LaneTag was going from 1 to 7\n",
    "- Monday, Feb 17\n",
    "    - Reorder notebook: make roadway before loading track information\n",
    "    - function to create the roadway from centerlines called `make_roadway_interaction()` moved to\n",
    "    `../src/roadway_building.jl`\n",
    "    - function to read in the vehicle tracks called `read_veh_tracks()` moved to\n",
    "    `../src/veh_track_reading.jl`\n",
    "    - Overlayed the vehicle id numbers on the rendered scene using `IDOverlay()`\n",
    "    - Driven vehicle id 29 using 2D Driver model. Gets stuck at the merge point because lane has\n",
    "    ended there. Need to fix this\n",
    "    - Made a new file within `src` called `driving_simulation.jl` to provide simulation functions.\n",
    "    Moved `get_hallucination_scenes` and `make_def_models` and `run_a_vehicle` into there\n",
    "    - Roadway recreation for enabling connection at merge point to make vehicle aware of lane\n",
    "        - Decided that start to end points ordering in txt file should be in direction of travel\n",
    "        - Separated main lane into until merge point, and after merge point\n",
    "        - Format of file is now 2 colums with x in col 1 and y in col2. Written using\n",
    "        `writedlm(\"filename\",coods,',')`\n",
    "        - 0 has become a, 1 has split into b and then c (direction of travel so b comes first)\n",
    "        - 2 has become d, 3 has become e\n",
    "        - 4 has become f, 5 has split into g then h, in direction of travel\n",
    "        - 6 has become i, and merges at end point of g and then blends into h\n",
    "- Tuesday, Feb 18\n",
    "    - Formal roadway creation in progress\n",
    "    - Major issues with vehicles getting projected to a totally different starting location\n",
    "    - Wrote function to run multiple vehicles from a starting scene from the real data. Had to bring in\n",
    "    `keep_vehicle_subset!` to be able to retain a subset of vehicles of interest\n",
    "    - Roadway issues seem to be fixed. Had to rerun the `read_veh_tracks` for the `traj_interaction` to\n",
    "    become aware of the updated roadway\n",
    "    - However, no lane changes even with the most aggressive lane changer `TimLaneChanger`\n",
    "    - Began lane change investigation in similar roadway to the 3 car tutorial\n",
    "        - Question is: can cars change lane across segments or do the lanes need to be in the same segment?"
   ]
  },
  {
   "cell_type": "code",
   "execution_count": 1,
   "metadata": {
    "code_folding": [
     0
    ]
   },
   "outputs": [],
   "source": [
    "# usings\n",
    "using AutomotiveDrivingModels # Driving simulation platform\n",
    "using AutoViz # Visualization of roadways and vehicles\n",
    "using DataFrames # For reading in vehicle tracks into specific type `Trajdata`\n",
    "using Records # Storing the vehicle tracks in a format that can then be used by `AutomotiveDrivingModels`\n",
    "using Reel # Make animations of scene visualizations created using `AutoViz`\n",
    "using DelimitedFiles # Read in centerline txt files into arrays"
   ]
  },
  {
   "cell_type": "code",
   "execution_count": 8,
   "metadata": {
    "code_folding": [
     0
    ]
   },
   "outputs": [],
   "source": [
    "# Bring functions into notebook: names are self explanatory\n",
    "include(\"../src/roadway_building.jl\")\n",
    "include(\"../src/veh_track_reading.jl\")\n",
    "include(\"../src/visualization.jl\");\n",
    "include(\"../src/driving_simulation.jl\");"
   ]
  },
  {
   "cell_type": "markdown",
   "metadata": {},
   "source": [
    "## Build the roadway\n",
    "- Read centerlines provided in `../dataset`\n",
    "- functions used (from `AutomotiveInteraction/src/roadway_building.jl)\n",
    "    - `centerlines_txt2tracks(filename)`, `make_roadway_interaction()`"
   ]
  },
  {
   "cell_type": "code",
   "execution_count": 9,
   "metadata": {},
   "outputs": [],
   "source": [
    "roadway_interaction = make_roadway_interaction();"
   ]
  },
  {
   "cell_type": "markdown",
   "metadata": {},
   "source": [
    "## Read vehicle tracks from csv file\n",
    "- Read vehicle track information provided in `../dataset`\n",
    "- Functions used (from `AutomotiveInteraction/src/veh_track_reading.jl`)\n",
    "    - `nframes`, `carsinframe`, `car_df_index`, `read_veh_tracks()`"
   ]
  },
  {
   "cell_type": "code",
   "execution_count": 10,
   "metadata": {},
   "outputs": [
    {
     "name": "stderr",
     "output_type": "stream",
     "text": [
      "┌ Warning: readtable is deprecated, use CSV.read from the CSV package instead\n",
      "│   caller = ip:0x0\n",
      "└ @ Core :-1\n"
     ]
    },
    {
     "data": {
      "text/plain": [
       "Trajdata(3512 frames)"
      ]
     },
     "execution_count": 10,
     "metadata": {},
     "output_type": "execute_result"
    }
   ],
   "source": [
    "traj_interaction = read_veh_tracks()"
   ]
  },
  {
   "cell_type": "markdown",
   "metadata": {},
   "source": [
    "## Investigate lane change possibility: porous boundary"
   ]
  },
  {
   "cell_type": "code",
   "execution_count": 22,
   "metadata": {
    "code_folding": []
   },
   "outputs": [
    {
     "data": {
      "text/plain": [
       "init_place_cars (generic function with 1 method)"
      ]
     },
     "execution_count": 22,
     "metadata": {},
     "output_type": "execute_result"
    }
   ],
   "source": [
    "# function: place cars at init location\n",
    "function init_place_cars(lane_place_array;road_length = 400.0)\n",
    "    num_lanes = length(lane_place_array)\n",
    "    roadway = gen_straight_roadway(num_lanes,road_length)\n",
    "    scene = Scene()\n",
    "\n",
    "    id = 1\n",
    "    for i in 1:num_lanes\n",
    "        for j in 1:length(lane_place_array[i])\n",
    "            veh_state = VehicleState(Frenet(roadway[LaneTag(1,i)],\n",
    "                    lane_place_array[i][j][1]),roadway,\n",
    "                lane_place_array[i][j][2])\n",
    "            veh = Vehicle(veh_state,VehicleDef(),id)\n",
    "            push!(scene,veh)\n",
    "            id+=1\n",
    "        end\n",
    "    end\n",
    "    return scene,roadway\n",
    "end"
   ]
  },
  {
   "cell_type": "code",
   "execution_count": 38,
   "metadata": {},
   "outputs": [
    {
     "data": {
      "image/png": "[encoded data removed]",
      "text/plain": [
       "Cairo.CairoSurfaceIOStream{UInt32}(Ptr{Nothing} @0x000000001697ed00, 1000.0, 600.0, IOBuffer(data=UInt8[...], readable=true, writable=true, seekable=true, append=false, size=0, maxsize=Inf, ptr=1, mark=-1))"
      ]
     },
     "execution_count": 38,
     "metadata": {},
     "output_type": "execute_result"
    }
   ],
   "source": [
    "test_road = Roadway()\n",
    "start1 = VecE2(0.,0.)\n",
    "end1 = VecE2(400.,0.)\n",
    "track1 = gen_straight_curve(start1,end1,2)\n",
    "lane1 = Lane(LaneTag(1,1),track1)\n",
    "push!(test_road.segments,RoadSegment(1,[lane1]))\n",
    "\n",
    "start2 = VecE2(0.,5.)\n",
    "end2 = VecE2(400.,5.)\n",
    "track2 = gen_straight_curve(start2,end2,2)\n",
    "lane2 = Lane(LaneTag(2,1),track2)\n",
    "push!(test_road.segments,RoadSegment(2,[lane2]))\n",
    "\n",
    "render(test_road)"
   ]
  },
  {
   "cell_type": "code",
   "execution_count": 39,
   "metadata": {},
   "outputs": [
    {
     "data": {
      "image/png": "[encoded data removed]",
      "text/plain": [
       "Cairo.CairoSurfaceIOStream{UInt32}(Ptr{Nothing} @0x0000000016981210, 1000.0, 600.0, IOBuffer(data=UInt8[...], readable=true, writable=true, seekable=true, append=false, size=0, maxsize=Inf, ptr=1, mark=-1))"
      ]
     },
     "execution_count": 39,
     "metadata": {},
     "output_type": "execute_result"
    }
   ],
   "source": [
    "scene = Scene()\n",
    "\n",
    "veh1 = Vehicle(VehicleState(VecSE2(10.,0.,0.),test_road,20.),VehicleDef(),1)\n",
    "push!(scene,veh1)\n",
    "\n",
    "veh2 = Vehicle(VehicleState(VecSE2(30.,0.,0.),test_road,10.),VehicleDef(),2)\n",
    "push!(scene,veh2)\n",
    "\n",
    "veh3 = Vehicle(VehicleState(VecSE2(30.,5.,0.),test_road,20.),VehicleDef(),3)\n",
    "push!(scene,veh3)\n",
    "\n",
    "models = Dict{Int64,DriverModel}()\n",
    "for veh in scene\n",
    "    models[veh.id] = Tim2DDriver(INTERACTION_TIMESTEP)\n",
    "end\n",
    "\n",
    "render(scene,test_road,cam=CarFollowCamera(2))"
   ]
  },
  {
   "cell_type": "code",
   "execution_count": 40,
   "metadata": {},
   "outputs": [],
   "source": [
    "scene_list = get_hallucination_scenes(scene,models = models,id_list = [1,2,3],roadway=test_road);"
   ]
  },
  {
   "cell_type": "code",
   "execution_count": 41,
   "metadata": {},
   "outputs": [
    {
     "name": "stdout",
     "output_type": "stream",
     "text": [
      "Making video filename: media/no_yaa.mp4\n"
     ]
    }
   ],
   "source": [
    "scenelist2video(scene_list,roadway=test_road,filename=\"media/no_yaa.mp4\")"
   ]
  },
  {
   "cell_type": "code",
   "execution_count": null,
   "metadata": {},
   "outputs": [],
   "source": []
  }
 ],
 "metadata": {
  "@webio": {
   "lastCommId": null,
   "lastKernelId": null
  },
  "kernelspec": {
   "display_name": "Julia 1.1.0",
   "language": "julia",
   "name": "julia-1.1"
  },
  "language_info": {
   "file_extension": ".jl",
   "mimetype": "application/julia",
   "name": "julia",
   "version": "1.1.0"
  }
 },
 "nbformat": 4,
 "nbformat_minor": 2
}
