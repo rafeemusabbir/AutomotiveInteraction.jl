{
 "cells": [
  {
   "cell_type": "markdown",
   "metadata": {},
   "source": [
    "## Notebook to work with interaction dataset merge scenario `DR_CHN_Merging_ZS`\n",
    "    - Roadway generation\n",
    "    - Trajdata creation based on reading vehicle tracks from provided csv files\n",
    "\n",
    "## Changelog\n",
    "- Friday, Jan 31\n",
    "    - Creation\n",
    "    - Toy track generation using way if 10025 from `DR_CHN_Merging_ZS.osm`\n",
    "- Monday, Feb 3\n",
    "    - Begin trajdata creation to read in the vehicle tracks. Creation of struct called `INTERACTIONTrajdata`\n",
    "- Tuesday, Feb 4\n",
    "    - `Trajdata` reading nominally works. And rendered a scene of course without roadway. Some caveats\n",
    "        - `car_df_index` line 21 onwards check is commented out\n",
    "        - No `roadway` involved in the creation of `RecordState`\n",
    "    - Made a video of replaying the trajdata, of course without roadway, just cars in the blackness\n",
    "- Wednesday, Feb 5\n",
    "    - roadway building using `generate_merging_roadway` from `AutonomousMerging.jl`\n",
    "    - brought in `curevept_overlay` to do overlay the curve points that constitute a road\n",
    "    - Drove a car in the merging scenario to check that lane semantics works i.e. vehicle understands\n",
    "    how to keep lane\n",
    "    - second roadway inspired by William Brannon curved merging lane\n",
    "- Friday, Feb 7\n",
    "    - Started pipeline to read Soyeon's centerline data files\n",
    "    - Generated video replaying interaction dataset on roadways\n",
    "- Monday, Feb 10\n",
    "    - Cleanup to prepare for commit to `sisl/AutomotiveInteraction`\n",
    "- Wednesday, Feb 12\n",
    "    - Found that the vehicle state needs to have roadway information. Otherwise `observe!` in MOBIL cries\n",
    "    - This means that we can't initialize the vehicle state the way we have done so far i.e. \n",
    "    without providing a `roadway` argument\n",
    "    - Need to understand `lanes` and `lanetags` and modify roadway creation in terms of how tracks read from\n",
    "    centerlines txt files into the roadway object\n",
    "- Friday, Feb 14\n",
    "    - Got `proj` to work by making `roadway_interaction` in such a way that there are 7 segments, and each segment has only 1 lane. Thus during lane creation, the associated lanetag has `LaneTag(segment_id,1)` as opposed to earlier when the second argument of the LaneTag was going from 1 to 7\n",
    "- Monday, Feb 17\n",
    "    - Reorder notebook: make roadway before loading track information\n",
    "    - function to create the roadway from centerlines called `make_roadway_interaction()` moved to\n",
    "    `../src/roadway_building.jl`\n",
    "    - function to read in the vehicle tracks called `read_veh_tracks()` moved to\n",
    "    `../src/veh_track_reading.jl`\n",
    "    - Overlayed the vehicle id numbers on the rendered scene using `IDOverlay()`\n",
    "    - Driven vehicle id 29 using 2D Driver model. Gets stuck at the merge point because lane has\n",
    "    ended there. Need to fix this\n",
    "    - Made a new file within `src` called `driving_simulation.jl` to provide simulation functions.\n",
    "    Moved `get_hallucination_scenes` and `make_def_models` and `run_a_vehicle` into there\n",
    "    - Roadway recreation for enabling connection at merge point to make vehicle aware of lane\n",
    "        - Decided that start to end points ordering in txt file should be in direction of travel\n",
    "        - Separated main lane into until merge point, and after merge point\n",
    "        - Format of file is now 2 colums with x in col 1 and y in col2. Written using\n",
    "        `writedlm(\"filename\",coods,',')`\n",
    "        - 0 has become a, 1 has split into b and then c (direction of travel so b comes first)\n",
    "        - 2 has become d, 3 has become e"
   ]
  },
  {
   "cell_type": "code",
   "execution_count": 1,
   "metadata": {
    "code_folding": [
     0
    ]
   },
   "outputs": [],
   "source": [
    "# usings\n",
    "using AutomotiveDrivingModels # Driving simulation platform\n",
    "using AutoViz # Visualization of roadways and vehicles\n",
    "using DataFrames # For reading in vehicle tracks into specific type `Trajdata`\n",
    "using Records # Storing the vehicle tracks in a format that can then be used by `AutomotiveDrivingModels`\n",
    "using Reel # Make animations of scene visualizations created using `AutoViz`\n",
    "using DelimitedFiles # Read in centerline txt files into arrays"
   ]
  },
  {
   "cell_type": "code",
   "execution_count": 60,
   "metadata": {
    "code_folding": [
     0
    ]
   },
   "outputs": [
    {
     "data": {
      "text/plain": [
       "get_hallucination_scenes"
      ]
     },
     "execution_count": 60,
     "metadata": {},
     "output_type": "execute_result"
    }
   ],
   "source": [
    "# Bring functions into notebook: names are self explanatory\n",
    "include(\"../src/roadway_building.jl\")\n",
    "include(\"../src/veh_track_reading.jl\")\n",
    "include(\"../src/visualization.jl\");\n",
    "include(\"../src/driving_simulation.jl\")"
   ]
  },
  {
   "cell_type": "markdown",
   "metadata": {},
   "source": [
    "## Build the roadway\n",
    "- Read centerlines provided in `../dataset`\n",
    "- functions used (from `AutomotiveInteraction/src/roadway_building.jl)\n",
    "    - `centerlines_txt2tracks(filename)`, `make_roadway_interaction()`"
   ]
  },
  {
   "cell_type": "code",
   "execution_count": 4,
   "metadata": {},
   "outputs": [],
   "source": [
    "roadway_interaction = make_roadway_interaction();"
   ]
  },
  {
   "cell_type": "markdown",
   "metadata": {},
   "source": [
    "## Read vehicle tracks from csv file\n",
    "- Read vehicle track information provided in `../dataset`\n",
    "- Functions used (from `AutomotiveInteraction/src/veh_track_reading.jl`)\n",
    "    - `nframes`, `carsinframe`, `car_df_index`, `read_veh_tracks()`"
   ]
  },
  {
   "cell_type": "code",
   "execution_count": 8,
   "metadata": {},
   "outputs": [
    {
     "name": "stderr",
     "output_type": "stream",
     "text": [
      "┌ Warning: readtable is deprecated, use CSV.read from the CSV package instead\n",
      "│   caller = ip:0x0\n",
      "└ @ Core :-1\n"
     ]
    },
    {
     "data": {
      "text/plain": [
       "Trajdata(3512 frames)"
      ]
     },
     "execution_count": 8,
     "metadata": {},
     "output_type": "execute_result"
    }
   ],
   "source": [
    "traj_interaction = read_veh_tracks()"
   ]
  },
  {
   "cell_type": "markdown",
   "metadata": {},
   "source": [
    "## Driving simulation experiments"
   ]
  },
  {
   "cell_type": "code",
   "execution_count": 37,
   "metadata": {},
   "outputs": [],
   "source": [
    "scene_list = get_hallucination_scenes(scene_test,models=models,duration=6);"
   ]
  },
  {
   "cell_type": "markdown",
   "metadata": {},
   "source": [
    "## Understand curveindex_end"
   ]
  },
  {
   "cell_type": "code",
   "execution_count": 41,
   "metadata": {},
   "outputs": [
    {
     "data": {
      "text/plain": [
       "CurveIndex(1, 1.000)"
      ]
     },
     "execution_count": 41,
     "metadata": {},
     "output_type": "execute_result"
    }
   ],
   "source": [
    "    merge_point = VecE2(0.0, 0.0) \n",
    "main_lane_length = 20.;main_lane_angle = 0.;n_pts=2\n",
    "    main_lane_startpt = merge_point + polar(main_lane_length, -float(pi) - main_lane_angle)\n",
    "    main_curve = gen_straight_curve(main_lane_startpt, merge_point, n_pts)\n",
    "    merge_index = curveindex_end(main_curve)"
   ]
  },
  {
   "cell_type": "code",
   "execution_count": 45,
   "metadata": {},
   "outputs": [
    {
     "data": {
      "text/plain": [
       "CurvePt({0.000, 0.000, 0.000}, 20.000, 0.000, NaN)"
      ]
     },
     "execution_count": 45,
     "metadata": {},
     "output_type": "execute_result"
    }
   ],
   "source": [
    "main_curve[merge_index]"
   ]
  },
  {
   "cell_type": "markdown",
   "metadata": {},
   "source": [
    "## Make roadway_interaction to understand merging"
   ]
  },
  {
   "cell_type": "code",
   "execution_count": 120,
   "metadata": {
    "code_folding": [
     0
    ]
   },
   "outputs": [
    {
     "data": {
      "text/plain": [
       "centerlines_txt2tracks_new (generic function with 1 method)"
      ]
     },
     "execution_count": 120,
     "metadata": {},
     "output_type": "execute_result"
    }
   ],
   "source": [
    "# function: centerlines_txt2tracks_new\n",
    "function centerlines_txt2tracks_new(filename)\n",
    "    coods = readdlm(filename,',')\n",
    "    coods_app = append_headings(coods) # Append with the angle\n",
    "    \n",
    "    mid_coods = coods_app'\n",
    "    \n",
    "    first_cood = VecSE2(mid_coods[1,1], mid_coods[2,1], mid_coods[3,1])\n",
    "    second_cood = VecSE2(mid_coods[1,2], mid_coods[2,2], mid_coods[3,2])\n",
    "    radius = 0.01\n",
    "    nsamples = 20\n",
    "\n",
    "    track = gen_bezier_curve(first_cood, second_cood, radius, radius, nsamples)\n",
    "    \n",
    "    nsamples = 20\n",
    "    for i = 3:size(coods,1)\n",
    "        turn1 = VecSE2(mid_coods[1, i-1], mid_coods[2, i-1], mid_coods[3, i-1])\n",
    "        turn2 = VecSE2(mid_coods[1, i], mid_coods[2, i], mid_coods[3, i])\n",
    "        curve = gen_bezier_curve(turn1, turn2, radius, radius, nsamples)\n",
    "        append_to_curve!(track, curve)\n",
    "    end\n",
    "\n",
    "    return track\n",
    "end"
   ]
  },
  {
   "cell_type": "code",
   "execution_count": 124,
   "metadata": {},
   "outputs": [
    {
     "data": {
      "text/plain": [
       "Lane{Float64}(LaneTag(1, 1), CurvePt{Float64}[CurvePt({1146.270, 973.136, -2.940}, 0.000, 0.000, NaN), CurvePt({1146.236, 973.129, -2.940}, 0.035, 0.000, NaN), CurvePt({1146.141, 973.110, -2.940}, 0.131, 0.000, NaN), CurvePt({1145.994, 973.080, -2.940}, 0.282, 0.000, NaN), CurvePt({1145.800, 973.040, -2.940}, 0.479, 0.000, NaN), CurvePt({1145.567, 972.992, -2.940}, 0.717, 0.000, NaN), CurvePt({1145.303, 972.938, -2.940}, 0.987, 0.000, NaN), CurvePt({1145.013, 972.879, -2.940}, 1.282, 0.000, NaN), CurvePt({1144.706, 972.816, -2.940}, 1.596, 0.000, NaN), CurvePt({1144.388, 972.751, -2.940}, 1.920, 0.000, NaN)  …  CurvePt({1066.883, 959.753, -2.894}, 80.585, 0.000, NaN), CurvePt({1066.484, 959.652, -2.894}, 80.997, 0.000, NaN), CurvePt({1066.099, 959.555, -2.894}, 81.394, 0.000, NaN), CurvePt({1065.735, 959.463, -2.894}, 81.769, 0.000, NaN), CurvePt({1065.403, 959.379, -2.894}, 82.112, 0.000, NaN), CurvePt({1065.111, 959.305, -2.894}, 82.413, 0.000, NaN), CurvePt({1064.868, 959.243, -2.894}, 82.663, 0.000, NaN), CurvePt({1064.683, 959.197, -2.894}, 82.854, 0.000, NaN), CurvePt({1064.565, 959.167, -2.894}, 82.976, 0.000, NaN), CurvePt({1064.523, 959.156, -2.894}, 83.020, 0.000, NaN)], 3.0, SpeedLimit(-Inf, Inf), LaneBoundary(:unknown, :unknown), LaneBoundary(:unknown, :unknown), LaneConnection{Int64,Float64}[LaneConnection(D, CurveIndex(379, 1.000), RoadIndex({399, 1.000000}, {2, 1})], LaneConnection{Int64,Float64}[])"
      ]
     },
     "execution_count": 124,
     "metadata": {},
     "output_type": "execute_result"
    }
   ],
   "source": [
    "track_a = centerlines_txt2tracks_new(\"test_a.txt\"); # Top most on ramp\n",
    "track_b = centerlines_txt2tracks_new(\"test_b.txt\")\n",
    "track_c = centerlines_txt2tracks_new(\"test_c.txt\")\n",
    "merge_index = curveindex_end(track_b)\n",
    "append_to_curve!(track_b,track_c)\n",
    "lane1 = Lane(LaneTag(2,1),track_b)\n",
    "lane0 = Lane(LaneTag(1,1),track_a,next=RoadIndex(merge_index,LaneTag(2,1)))"
   ]
  },
  {
   "cell_type": "code",
   "execution_count": 125,
   "metadata": {},
   "outputs": [
    {
     "data": {
      "image/png": "[encoded data removed]",
      "text/plain": [
       "Cairo.CairoSurfaceIOStream{UInt32}(Ptr{Nothing} @0x0000000048567b10, 1000.0, 600.0, IOBuffer(data=UInt8[...], readable=true, writable=true, seekable=true, append=false, size=0, maxsize=Inf, ptr=1, mark=-1))"
      ]
     },
     "execution_count": 125,
     "metadata": {},
     "output_type": "execute_result"
    }
   ],
   "source": [
    "road_random = Roadway()\n",
    "push!(road_random.segments,RoadSegment(1,[lane0]))\n",
    "push!(road_random.segments,RoadSegment(2,[lane1]))\n",
    "render(road_random)"
   ]
  },
  {
   "cell_type": "code",
   "execution_count": 127,
   "metadata": {},
   "outputs": [
    {
     "name": "stdout",
     "output_type": "stream",
     "text": [
      "Making video filename: media/random.mp4\n"
     ]
    }
   ],
   "source": [
    "run_a_vehicle(veh_id=29,roadway=road_random,filename=\"media/random.mp4\",duration=10.)"
   ]
  },
  {
   "cell_type": "code",
   "execution_count": 123,
   "metadata": {},
   "outputs": [
    {
     "data": {
      "text/plain": [
       "CurveIndex(379, 1.000)"
      ]
     },
     "execution_count": 123,
     "metadata": {},
     "output_type": "execute_result"
    }
   ],
   "source": [
    "merge_index = curveindex_end(track_a)"
   ]
  },
  {
   "cell_type": "code",
   "execution_count": null,
   "metadata": {},
   "outputs": [],
   "source": [
    "track_a = centerlines_txt2tracks_new(\"test_a.txt\")\n",
    "track_b = centerlines_txt2tracks_new(\"test_b.txt\")\n",
    "track_c = centerlines_txt2tracks_new(\"test_c.txt\")\n",
    "track_d = centerlines_txt2tracks_new(\"test_d.txt\")\n",
    "track_f = centerlines_txt2tracks_new(\"test_f.txt\")\n",
    "track_g = centerlines_txt2tracks_new(\"test_g.txt\")\n",
    "track_h = centerlines_txt2tracks_new(\"test_h.txt\")\n",
    "track_i = centerlines_txt2tracks_new(\"test_i.txt\")\n",
    "\n",
    "roadway_interaction = Roadway()\n",
    "lane0 = Lane(LaneTag(1,1),track0)\n",
    "lane1 = Lane(LaneTag(2,1),track1)\n",
    "lane2 = Lane(LaneTag(3,1),track2)\n",
    "lane3 = Lane(LaneTag(4,1),track3)\n",
    "lane4 = Lane(LaneTag(5,1),track4)\n",
    "lane5 = Lane(LaneTag(6,1),track5)\n",
    "lane6 = Lane(LaneTag(7,1),track6)\n",
    "push!(roadway_interaction.segments, RoadSegment(1, [lane0]))\n",
    "push!(roadway_interaction.segments, RoadSegment(2, [lane1]))\n",
    "push!(roadway_interaction.segments, RoadSegment(3, [lane2]))\n",
    "push!(roadway_interaction.segments, RoadSegment(4, [lane3]))\n",
    "push!(roadway_interaction.segments, RoadSegment(5, [lane4]))\n",
    "push!(roadway_interaction.segments, RoadSegment(6, [lane5]))\n",
    "push!(roadway_interaction.segments, RoadSegment(7, [lane6]))\n",
    "\n",
    "return roadway_interaction\n"
   ]
  }
 ],
 "metadata": {
  "@webio": {
   "lastCommId": null,
   "lastKernelId": null
  },
  "kernelspec": {
   "display_name": "Julia 1.1.0",
   "language": "julia",
   "name": "julia-1.1"
  },
  "language_info": {
   "file_extension": ".jl",
   "mimetype": "application/julia",
   "name": "julia",
   "version": "1.1.0"
  }
 },
 "nbformat": 4,
 "nbformat_minor": 2
}
