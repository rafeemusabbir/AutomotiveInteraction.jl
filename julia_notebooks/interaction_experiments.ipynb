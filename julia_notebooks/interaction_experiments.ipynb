{
 "cells": [
  {
   "cell_type": "markdown",
   "metadata": {},
   "source": [
    "## Notebook to work with interaction dataset merge scenario `DR_CHN_Merging_ZS`\n",
    "    - Roadway generation\n",
    "    - Trajdata creation based on reading vehicle tracks from provided csv files\n",
    "\n",
    "## Changelog\n",
    "- Friday, Jan 31\n",
    "    - Creation\n",
    "    - Toy track generation using way if 10025 from `DR_CHN_Merging_ZS.osm`\n",
    "- Monday, Feb 3\n",
    "    - Begin trajdata creation to read in the vehicle tracks. Creation of struct called `INTERACTIONTrajdata`\n",
    "- Tuesday, Feb 4\n",
    "    - `Trajdata` reading nominally works. And rendered a scene of course without roadway. Some caveats\n",
    "        - `car_df_index` line 21 onwards check is commented out\n",
    "        - No `roadway` involved in the creation of `RecordState`\n",
    "    - Made a video of replaying the trajdata, of course without roadway, just cars in the blackness\n",
    "- Wednesday, Feb 5\n",
    "    - roadway building using `generate_merging_roadway` from `AutonomousMerging.jl`\n",
    "    - brought in `curevept_overlay` to do overlay the curve points that constitute a road\n",
    "    - Drove a car in the merging scenario to check that lane semantics works i.e. vehicle understands\n",
    "    how to keep lane\n",
    "    - second roadway inspired by William Brannon curved merging lane\n",
    "- Friday, Feb 7\n",
    "    - Started pipeline to read Soyeon's centerline data files\n",
    "    - Generated video replaying interaction dataset on roadways\n",
    "- Monday, Feb 10\n",
    "    - Cleanup to prepare for commit to `sisl/AutomotiveInteraction`\n",
    "- Wednesday, Feb 12\n",
    "    - Found that the vehicle state needs to have roadway information. Otherwise `observe!` in MOBIL cries\n",
    "    - This means that we can't initialize the vehicle state the way we have done so far i.e. \n",
    "    without providing a `roadway` argument\n",
    "    - Need to understand `lanes` and `lanetags` and modify roadway creation in terms of how tracks read from\n",
    "    centerlines txt files into the roadway object\n",
    "- Friday, Feb 14\n",
    "    - Got `proj` to work by making `roadway_interaction` in such a way that there are 7 segments, and each segment has only 1 lane. Thus during lane creation, the associated lanetag has `LaneTag(segment_id,1)` as opposed to earlier when the second argument of the LaneTag was going from 1 to 7\n",
    "- Monday, Feb 17\n",
    "    - Reorder notebook: make roadway before loading track information\n",
    "    - function to create the roadway from centerlines called `make_roadway_interaction()` created in\n",
    "    `roadway_building.jl`\n",
    "    - function to read in the vehicle tracks called `read_veh_tracks()` created in \n",
    "    `../src/veh_track_reading.jl`"
   ]
  },
  {
   "cell_type": "code",
   "execution_count": 1,
   "metadata": {
    "code_folding": [
     0
    ]
   },
   "outputs": [],
   "source": [
    "# usings\n",
    "using AutomotiveDrivingModels # Driving simulation platform\n",
    "using AutoViz # Visualization of roadways and vehicles\n",
    "using DataFrames # For reading in vehicle tracks into specific type `Trajdata`\n",
    "using Records # Storing the vehicle tracks in a format that can then be used by `AutomotiveDrivingModels`\n",
    "using Reel # Make animations of scene visualizations created using `AutoViz`\n",
    "using DelimitedFiles # Read in centerline txt files into arrays"
   ]
  },
  {
   "cell_type": "code",
   "execution_count": 2,
   "metadata": {
    "code_folding": [
     0
    ]
   },
   "outputs": [],
   "source": [
    "# Bring functions into notebook: names are self explanatory\n",
    "include(\"../src/roadway_building.jl\")\n",
    "include(\"../src/veh_track_reading.jl\")\n",
    "include(\"../src/visualization.jl\");"
   ]
  },
  {
   "cell_type": "markdown",
   "metadata": {},
   "source": [
    "## Build the roadway\n",
    "- functions used (from `AutomotiveInteraction/src/roadway_building.jl)\n",
    "    - `centerlines_txt2tracks(filename)`, `make_roadway_interaction()`\n",
    "- Name is `roadway_interaction`\n",
    "- Read centerlines provided in `../dataset`"
   ]
  },
  {
   "cell_type": "code",
   "execution_count": 4,
   "metadata": {},
   "outputs": [],
   "source": [
    "roadway_interaction = make_roadway_interaction();"
   ]
  },
  {
   "cell_type": "markdown",
   "metadata": {},
   "source": [
    "## Read vehicle tracks from csv file\n",
    "- Functions used (from `AutomotiveInteraction/src/veh_track_reading.jl`)\n",
    "    - `nframes`, `carsinframe`, `car_df_index`, `read_veh_tracks()`"
   ]
  },
  {
   "cell_type": "code",
   "execution_count": 8,
   "metadata": {},
   "outputs": [
    {
     "name": "stderr",
     "output_type": "stream",
     "text": [
      "┌ Warning: readtable is deprecated, use CSV.read from the CSV package instead\n",
      "│   caller = ip:0x0\n",
      "└ @ Core :-1\n"
     ]
    },
    {
     "data": {
      "text/plain": [
       "Trajdata(3512 frames)"
      ]
     },
     "execution_count": 8,
     "metadata": {},
     "output_type": "execute_result"
    }
   ],
   "source": [
    "traj_interaction = read_veh_tracks()"
   ]
  },
  {
   "cell_type": "markdown",
   "metadata": {},
   "source": [
    "## Driving simulation functions"
   ]
  },
  {
   "cell_type": "code",
   "execution_count": null,
   "metadata": {},
   "outputs": [],
   "source": [
    "# models creation: 2d driver model for the merging roadway\n",
    "models = Dict{Int64,DriverModel}()\n",
    "for veh in scene\n",
    "    models[veh.id] = Tim2DDriver(0.1,mlane=MOBIL(INTERACTION_TIMESTEP,mlon=IntelligentDriverModel()))\n",
    "end"
   ]
  },
  {
   "cell_type": "code",
   "execution_count": null,
   "metadata": {
    "code_folding": [
     0
    ]
   },
   "outputs": [],
   "source": [
    "# function: get hallucination scenes\n",
    "\"\"\"\n",
    "    function get_hallucination_scenes\n",
    "- Hallucinate starting from `start_step` for `nsteps` using `models` and return a list of scenes\n",
    "- Used by `plot_carwise_pos_vel` to assess position and velocity traces against ground truth\n",
    "\n",
    "# Returns\n",
    "- `halluc_scenes_list`: List containing the scenes starting with the ground truth scene at `start_step`\n",
    "\n",
    "# Examples\n",
    "```julia\n",
    "scene_list = get_hallucination_scenes(scene,models=models);\n",
    "```\n",
    "\"\"\"\n",
    "function get_hallucination_scenes(scene_halluc;models,start_step=1,duration=5,id_list=[],\n",
    "        traj=traj_interaction,verbosity = false,timestep=INTERACTION_TIMESTEP,roadway=roadway_interaction)\n",
    "        # Setting up\n",
    "    halluc_scenes_list = []\n",
    "    #scene_halluc = get_scene(start_step,traj) # Frame to start hallucination from\n",
    "    push!(halluc_scenes_list,deepcopy(scene_halluc))\n",
    "    \n",
    "    nsteps = duration/timestep\n",
    "    for (i,t) in enumerate(start_step:start_step+nsteps-1)\n",
    "        \n",
    "        if !isempty(id_list) keep_vehicle_subset!(scene_halluc,id_list) end\n",
    "        \n",
    "        actions = Array{Any}(undef,length(scene_halluc))\n",
    "\n",
    "            # Propagation of scene forward\n",
    "        get_actions!(actions,scene_halluc,roadway,models)\n",
    "\n",
    "        tick!(scene_halluc,roadway,actions,timestep)\n",
    "        \n",
    "        push!(halluc_scenes_list,deepcopy(scene_halluc))\n",
    "    end \n",
    "    return halluc_scenes_list\n",
    "end"
   ]
  },
  {
   "cell_type": "code",
   "execution_count": null,
   "metadata": {},
   "outputs": [],
   "source": [
    "scene_list = get_hallucination_scenes(scene,models=models);"
   ]
  },
  {
   "cell_type": "code",
   "execution_count": null,
   "metadata": {},
   "outputs": [],
   "source": [
    "scenelist2video(scene_list,filename=\"media/scenelist_to_video.gif\")"
   ]
  }
 ],
 "metadata": {
  "@webio": {
   "lastCommId": null,
   "lastKernelId": null
  },
  "kernelspec": {
   "display_name": "Julia 1.1.0",
   "language": "julia",
   "name": "julia-1.1"
  },
  "language_info": {
   "file_extension": ".jl",
   "mimetype": "application/julia",
   "name": "julia",
   "version": "1.1.0"
  }
 },
 "nbformat": 4,
 "nbformat_minor": 2
}
