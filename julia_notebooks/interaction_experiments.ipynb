{
 "cells": [
  {
   "cell_type": "markdown",
   "metadata": {},
   "source": [
    "## Notebook to work with interaction dataset merge scenario `DR_CHN_Merging_ZS`\n",
    "    - Roadway generation\n",
    "    - Trajdata creation based on reading vehicle tracks from provided csv files\n",
    "\n",
    "## Changelog\n",
    "- Friday, Jan 31\n",
    "    - Creation\n",
    "    - Toy track generation using way if 10025 from `DR_CHN_Merging_ZS.osm`\n",
    "- Monday, Feb 3\n",
    "    - Begin trajdata creation to read in the vehicle tracks. Creation of struct called `INTERACTIONTrajdata`\n",
    "- Tuesday, Feb 4\n",
    "    - `Trajdata` reading nominally works. And rendered a scene of course without roadway. Some caveats\n",
    "        - `car_df_index` line 21 onwards check is commented out\n",
    "        - No `roadway` involved in the creation of `RecordState`\n",
    "    - Made a video of replaying the trajdata, of course without roadway, just cars in the blackness\n",
    "- Wednesday, Feb 5\n",
    "    - roadway building using `generate_merging_roadway` from `AutonomousMerging.jl`\n",
    "    - brought in `curevept_overlay` to do overlay the curve points that constitute a road\n",
    "    - Drove a car in the merging scenario to check that lane semantics works i.e. vehicle understands\n",
    "    how to keep lane\n",
    "    - second roadway inspired by William Brannon curved merging lane\n",
    "- Friday, Feb 7\n",
    "    - Started pipeline to read Soyeon's centerline data files\n",
    "    - Generated video replaying interaction dataset on roadways\n",
    "- Monday, Feb 10\n",
    "    - Cleanup to prepare for commit to `sisl/AutomotiveInteraction`\n",
    "- Wednesday, Feb 12\n",
    "    - Found that the vehicle state needs to have roadway information. Otherwise `observe!` in MOBIL cries\n",
    "    - This means that we can't initialize the vehicle state the way we have done so far i.e. \n",
    "    without providing a `roadway` argument\n",
    "    - Need to understand `lanes` and `lanetags` and modify roadway creation in terms of how tracks read from\n",
    "    centerlines txt files into the roadway object\n",
    "- Friday, Feb 14\n",
    "    - Got `proj` to work by making `roadway_interaction` in such a way that there are 7 segments, and each segment has only 1 lane. Thus during lane creation, the associated lanetag has `LaneTag(segment_id,1)` as opposed to earlier when the second argument of the LaneTag was going from 1 to 7\n",
    "- Monday, Feb 17\n",
    "    - Reorder notebook: make roadway before loading track information\n",
    "    - function to create the roadway from centerlines called `make_roadway_interaction()` moved to\n",
    "    `../src/roadway_building.jl`\n",
    "    - function to read in the vehicle tracks called `read_veh_tracks()` moved to\n",
    "    `../src/veh_track_reading.jl`\n",
    "    - Overlayed the vehicle id numbers on the rendered scene using `IDOverlay()`\n",
    "    - Driven vehicle id 29 using 2D Driver model. Gets stuck at the merge point because lane has\n",
    "    ended there. Need to fix this\n",
    "    - Made a new file within `src` called `driving_simulation.jl` to provide simulation functions.\n",
    "    Moved `get_hallucination_scenes` and `make_def_models` and `run_a_vehicle` into there\n",
    "    - Roadway recreation for enabling connection at merge point to make vehicle aware of lane\n",
    "        - Decided that start to end points ordering in txt file should be in direction of travel\n",
    "        - Separated main lane into until merge point, and after merge point\n",
    "        - Format of file is now 2 colums with x in col 1 and y in col2. Written using\n",
    "        `writedlm(\"filename\",coods,',')`\n",
    "        - 0 has become a, 1 has split into b and then c (direction of travel so b comes first)\n",
    "        - 2 has become d, 3 has become e\n",
    "        - 4 has become f, 5 has split into g then h, in direction of travel\n",
    "        - 6 has become i, and merges at end point of g and then blends into h\n",
    "- Tuesday, Feb 18\n",
    "    - Formal roadway creation in progress\n",
    "    - Major issues with vehicles getting projected to a totally different starting location\n",
    "    - Wrote function to run multiple vehicles from a starting scene from the real data. Had to bring in\n",
    "    `keep_vehicle_subset!` to be able to retain a subset of vehicles of interest\n",
    "    - Roadway issues seem to be fixed. Had to rerun the `read_veh_tracks` for the `traj_interaction` to\n",
    "    become aware of the updated roadway\n",
    "    - However, no lane changes even with the most aggressive lane changer `TimLaneChanger`"
   ]
  },
  {
   "cell_type": "code",
   "execution_count": 1,
   "metadata": {
    "code_folding": [
     0
    ]
   },
   "outputs": [],
   "source": [
    "# usings\n",
    "using AutomotiveDrivingModels # Driving simulation platform\n",
    "using AutoViz # Visualization of roadways and vehicles\n",
    "using DataFrames # For reading in vehicle tracks into specific type `Trajdata`\n",
    "using Records # Storing the vehicle tracks in a format that can then be used by `AutomotiveDrivingModels`\n",
    "using Reel # Make animations of scene visualizations created using `AutoViz`\n",
    "using DelimitedFiles # Read in centerline txt files into arrays"
   ]
  },
  {
   "cell_type": "code",
   "execution_count": 8,
   "metadata": {
    "code_folding": [
     0
    ]
   },
   "outputs": [],
   "source": [
    "# Bring functions into notebook: names are self explanatory\n",
    "include(\"../src/roadway_building.jl\")\n",
    "include(\"../src/veh_track_reading.jl\")\n",
    "include(\"../src/visualization.jl\");\n",
    "include(\"../src/driving_simulation.jl\");"
   ]
  },
  {
   "cell_type": "markdown",
   "metadata": {},
   "source": [
    "## Build the roadway\n",
    "- Read centerlines provided in `../dataset`\n",
    "- functions used (from `AutomotiveInteraction/src/roadway_building.jl)\n",
    "    - `centerlines_txt2tracks(filename)`, `make_roadway_interaction()`"
   ]
  },
  {
   "cell_type": "code",
   "execution_count": 9,
   "metadata": {},
   "outputs": [],
   "source": [
    "roadway_interaction = make_roadway_interaction();"
   ]
  },
  {
   "cell_type": "markdown",
   "metadata": {},
   "source": [
    "## Read vehicle tracks from csv file\n",
    "- Read vehicle track information provided in `../dataset`\n",
    "- Functions used (from `AutomotiveInteraction/src/veh_track_reading.jl`)\n",
    "    - `nframes`, `carsinframe`, `car_df_index`, `read_veh_tracks()`"
   ]
  },
  {
   "cell_type": "code",
   "execution_count": 10,
   "metadata": {},
   "outputs": [
    {
     "name": "stderr",
     "output_type": "stream",
     "text": [
      "┌ Warning: readtable is deprecated, use CSV.read from the CSV package instead\n",
      "│   caller = ip:0x0\n",
      "└ @ Core :-1\n"
     ]
    },
    {
     "data": {
      "text/plain": [
       "Trajdata(3512 frames)"
      ]
     },
     "execution_count": 10,
     "metadata": {},
     "output_type": "execute_result"
    }
   ],
   "source": [
    "traj_interaction = read_veh_tracks()"
   ]
  },
  {
   "cell_type": "markdown",
   "metadata": {},
   "source": [
    "## Simulate driving behavior"
   ]
  },
  {
   "cell_type": "code",
   "execution_count": 11,
   "metadata": {},
   "outputs": [
    {
     "name": "stdout",
     "output_type": "stream",
     "text": [
      "Making video filename: media/yo_karan.mp4\n"
     ]
    }
   ],
   "source": [
    "run_vehicles(id_list=[2,7,10,11,18,22,25,29],roadway=roadway_interaction,filename=\"media/yo_karan.mp4\")"
   ]
  },
  {
   "cell_type": "code",
   "execution_count": null,
   "metadata": {},
   "outputs": [],
   "source": [
    "run_vehicles(id_list=[7,25,2,18,10],roadway=roadway_interaction,filename=\"media/whatev_armaan.mp4\")"
   ]
  },
  {
   "cell_type": "code",
   "execution_count": null,
   "metadata": {},
   "outputs": [],
   "source": [
    "scene_real = get_scene(1,traj_interaction)\n",
    "keep_vehicle_subset!(scene_real,[7,10,11,18,22,25,29])"
   ]
  },
  {
   "cell_type": "code",
   "execution_count": 12,
   "metadata": {},
   "outputs": [
    {
     "name": "stderr",
     "output_type": "stream",
     "text": [
      "┌ Info: Recompiling stale cache file /home/raunak/.julia/compiled/v1.1/Documenter/sHGjf.ji for Documenter [e30172f5-a6a5-5a46-863b-614d45cd2de4]\n",
      "└ @ Base loading.jl:1184\n"
     ]
    }
   ],
   "source": [
    "using Documenter"
   ]
  },
  {
   "cell_type": "code",
   "execution_count": null,
   "metadata": {},
   "outputs": [],
   "source": []
  }
 ],
 "metadata": {
  "@webio": {
   "lastCommId": null,
   "lastKernelId": null
  },
  "kernelspec": {
   "display_name": "Julia 1.1.0",
   "language": "julia",
   "name": "julia-1.1"
  },
  "language_info": {
   "file_extension": ".jl",
   "mimetype": "application/julia",
   "name": "julia",
   "version": "1.1.0"
  }
 },
 "nbformat": 4,
 "nbformat_minor": 2
}
