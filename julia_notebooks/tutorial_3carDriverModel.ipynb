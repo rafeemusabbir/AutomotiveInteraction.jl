{
 "cells": [
  {
   "cell_type": "markdown",
   "metadata": {},
   "source": [
    "## This is a tutorial notebook where a car passes a slower front car\n",
    "- Flow\n",
    "    - Create roadway and initial scene by placing cars on the roadway\n",
    "    - Associate driver models to the vehicles\n",
    "    - Run a simulation\n",
    "    - Create an associated video and save to media folder"
   ]
  },
  {
   "cell_type": "code",
   "execution_count": null,
   "metadata": {},
   "outputs": [],
   "source": [
    "using AutomotiveDrivingModels\n",
    "using AutoViz\n",
    "using Reel"
   ]
  },
  {
   "cell_type": "markdown",
   "metadata": {},
   "source": [
    "# Useful helper functions"
   ]
  },
  {
   "cell_type": "code",
   "execution_count": null,
   "metadata": {
    "code_folding": []
   },
   "outputs": [],
   "source": [
    "# function: generate roadway and place cars\n",
    "\"\"\"\n",
    "    function init_place_cars(lane_place_array;road_length = 400.0)\n",
    "- Place cars on a straight roadway of `road_length` according to elems in `lane_place_array`\n",
    "\n",
    "# Examples\n",
    "```julia\n",
    "pos_vel_array_1 = [(200.,30.),(215.,0.),(220.,0.)]\n",
    "pos_vel_array_2 = [(200.,0.),(215.,0.),(220.,20.)]\n",
    "pos_vel_array_3 = [(215.,0.),(225.,10.),(230.,0.)]\n",
    "lane_place_array = [pos_vel_array_1,pos_vel_array_2,pos_vel_array_3]\n",
    "scene,roadway = init_place_cars(lane_place_array)\n",
    "```\n",
    "\"\"\"\n",
    "function init_place_cars(lane_place_array;road_length = 400.0)\n",
    "    num_lanes = length(lane_place_array)\n",
    "    roadway = gen_straight_roadway(num_lanes,road_length)\n",
    "    scene = Scene()\n",
    "\n",
    "    id = 1\n",
    "    for i in 1:num_lanes\n",
    "        for j in 1:length(lane_place_array[i])\n",
    "            veh_state = VehicleState(Frenet(roadway[LaneTag(1,i)],\n",
    "                    lane_place_array[i][j][1]),roadway,\n",
    "                lane_place_array[i][j][2])\n",
    "            veh = Vehicle(veh_state,VehicleDef(),id)\n",
    "            push!(scene,veh)\n",
    "            id+=1\n",
    "        end\n",
    "    end\n",
    "    return scene,roadway\n",
    "end"
   ]
  },
  {
   "cell_type": "code",
   "execution_count": null,
   "metadata": {
    "code_folding": []
   },
   "outputs": [],
   "source": [
    "# function: hallucinate scene list\n",
    "\"\"\"\n",
    "    function get_hallucination_scenes\n",
    "- Hallucinate starting from `start_step` for `nsteps` using `models` and return a list of scenes\n",
    "- Used by `plot_carwise_pos_vel` to assess position and velocity traces against ground truth\n",
    "\n",
    "# Returns\n",
    "- `halluc_scenes_list`: List containing the scenes starting with the ground truth scene at `start_step`\n",
    "\n",
    "# Examples\n",
    "```julia\n",
    "true_scene_list = get_hallucination_scenes(scene_halluc,duration=10,models=models);\n",
    "```\n",
    "\"\"\"\n",
    "function get_hallucination_scenes(start_scene;models,start_step=1,duration=10,\n",
    "        id_list=[],verbosity = false,timestep=TIMESTEP)\n",
    "        # Setting up\n",
    "    scene_halluc = start_scene\n",
    "    halluc_scenes_list = []\n",
    "    push!(halluc_scenes_list,deepcopy(start_scene))\n",
    "#     scene_halluc = get_scene(start_step,traj) # Frame to start hallucination from\n",
    "#     push!(halluc_scenes_list,deepcopy(scene_halluc))\n",
    "    \n",
    "    nsteps = duration/timestep\n",
    "    for (i,t) in enumerate(start_step:start_step+nsteps-1)\n",
    "        \n",
    "#         if !isempty(id_list) keep_vehicle_subset!(scene_halluc,id_list) end\n",
    "        \n",
    "        actions = Array{Any}(undef,length(scene_halluc))\n",
    "\n",
    "            # Propagation of scene forward\n",
    "        get_actions!(actions,scene_halluc,ROADWAY,models)\n",
    "\n",
    "        tick!(scene_halluc,ROADWAY,actions,timestep)\n",
    "        \n",
    "        push!(halluc_scenes_list,deepcopy(scene_halluc))\n",
    "    end \n",
    "    return halluc_scenes_list\n",
    "end"
   ]
  },
  {
   "cell_type": "code",
   "execution_count": null,
   "metadata": {
    "code_folding": []
   },
   "outputs": [],
   "source": [
    "# function: make a video from a list of scenes\n",
    "\"\"\"\n",
    "    function scenelist2video(scene_list;filename = \"media/mobil/scene_to_video.mp4\")\n",
    "- Make video from a list of scenes\n",
    "\n",
    "# Examples\n",
    "```julia\n",
    "scene_list = get_hallucination_scenes(scene2,models=models,traj=int_trajdata,roadway=roadway2)\n",
    "scenelist2video(scene_list,roadway=roadway2,filename=\"media/interaction_vids/merge.mp4\")\n",
    "```\n",
    "\"\"\"\n",
    "function scenelist2video(scene_list;id_list=[],\n",
    "        filename = \"media/mobil/scene_to_video.mp4\",roadway=roadway_interaction)\n",
    "    frames = Frames(MIME(\"image/png\"),fps = 10)\n",
    "    \n",
    "    # Loop over list of scenes and convert to video\n",
    "    for i in 1:length(scene_list)\n",
    "        if !isempty(id_list) keep_vehicle_subset!(scene_list[i],id_list) end\n",
    "        scene_visual = render(scene_list[i],roadway,\n",
    "        #cam=FitToContentCamera(1.), # uncomment this if you want to fit the entire roadway on screen\n",
    "        cam = CarFollowCamera(1)\n",
    "        )\n",
    "        push!(frames,scene_visual)\n",
    "    end\n",
    "    print(\"Making video filename: $(filename)\\n\")\n",
    "    write(filename,frames)\n",
    "    return nothing\n",
    "end"
   ]
  },
  {
   "cell_type": "markdown",
   "metadata": {},
   "source": [
    "## Okay, functions have been defined. Let's actually use them in a simulation"
   ]
  },
  {
   "cell_type": "code",
   "execution_count": null,
   "metadata": {},
   "outputs": [],
   "source": [
    "# Start the scene by placing vehicles\n",
    "pos_vel_array_1 = [(100.,30.),(150.,0.)]\n",
    "pos_vel_array_2 = [(150.,10.)] #(280.,10.)\n",
    "\n",
    "lane_place_array = [pos_vel_array_1,pos_vel_array_2]\n",
    "scene,roadway = init_place_cars(lane_place_array)\n",
    "const TIMESTEP = 0.1;\n",
    "const SCENE = deepcopy(scene)\n",
    "const ROADWAY = roadway;"
   ]
  },
  {
   "cell_type": "code",
   "execution_count": null,
   "metadata": {},
   "outputs": [],
   "source": [
    "start_step=1\n",
    "nsteps=100\n",
    "scene_halluc = deepcopy(SCENE)\n",
    "models = Dict{Int64,DriverModel}()\n",
    "for veh in scene models[veh.id] = IntelligentDriverModel() end\n",
    "models[1] = Tim2DDriver(TIMESTEP,\n",
    "                        mlane=MOBIL(TIMESTEP),\n",
    "                        mlon=IntelligentDriverModel(),\n",
    "            )\n",
    "models[2] = IntelligentDriverModel(v_des=15.)\n",
    "models[3] = IntelligentDriverModel()\n",
    "\n",
    "true_scene_list = get_hallucination_scenes(scene_halluc,duration=10,models=models);\n",
    "scenelist2video(true_scene_list,roadway=ROADWAY,filename=\"media/tutorial.mp4\")"
   ]
  }
 ],
 "metadata": {
  "@webio": {
   "lastCommId": null,
   "lastKernelId": null
  },
  "kernelspec": {
   "display_name": "Julia 1.1.0",
   "language": "julia",
   "name": "julia-1.1"
  },
  "language_info": {
   "file_extension": ".jl",
   "mimetype": "application/julia",
   "name": "julia",
   "version": "1.1.0"
  }
 },
 "nbformat": 4,
 "nbformat_minor": 2
}
